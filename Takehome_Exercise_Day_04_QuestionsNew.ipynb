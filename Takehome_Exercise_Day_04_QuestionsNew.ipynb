{
 "cells": [
  {
   "cell_type": "markdown",
   "metadata": {
    "colab_type": "text",
    "id": "gDOv51WMHi3f"
   },
   "source": [
    "### Take Home Exercises"
   ]
  },
  {
   "cell_type": "code",
   "execution_count": 1,
   "metadata": {},
   "outputs": [],
   "source": [
    "import numpy             as np\n",
    "import pandas            as pd\n",
    "import scipy.stats       as stats\n",
    "import matplotlib.pyplot as plt\n",
    "%matplotlib inline\n",
    "import seaborn           as sns\n",
    "import math"
   ]
  },
  {
   "cell_type": "markdown",
   "metadata": {
    "colab_type": "text",
    "id": "LgJ3GXi7Hi3h"
   },
   "source": [
    "**1)  Is there any evidence that the stock return depends on sector like industrial or consumer or service?**\n",
    "\n",
    "\n",
    "**The following table shows the annual return of stocks under different sectors:**"
   ]
  },
  {
   "cell_type": "code",
   "execution_count": 2,
   "metadata": {
    "colab": {},
    "colab_type": "code",
    "id": "_-81jM8XHi3i",
    "outputId": "afb094d4-4607-4591-97bd-43e1a427f682"
   },
   "outputs": [
    {
     "name": "stdout",
     "output_type": "stream",
     "text": [
      "Count, Mean and standard deviation of monthly income of members of Consumer Grp:  30, 0.082653 and 0.001010\n",
      "Count, Mean and standard deviation of monthly income of members of Service Grp:  30, 0.079823 and 0.003073\n",
      "Count, Mean and standard deviation of monthly income of members of Industrial Grp:  30, 0.060503 and 0.000963\n"
     ]
    }
   ],
   "source": [
    "y_stock_consumer = [ 0.0632, 0.1473, 0.1195, 0.1236, 0.1028, 0.0381, 0.1015, 0.1106, 0.0629, 0.0515, 0.0844, 0.1428, 0.0889, 0.0598,\\\n",
    "                    0.0696, 0.1162, 0.0522, 0.0534, 0.0593, 0.0710, 0.1091, 0.0820, 0.1019, 0.0904, 0.0861, 0.0939, 0.0263, \\\n",
    "                    0.0277, 0.0476, 0.0960]\n",
    "\n",
    "X1                = np.array(y_stock_consumer)\n",
    "print('Count, Mean and standard deviation of monthly income of members of Consumer Grp: %3d, %3.6f and %3.6f' % (len(X1), X1.mean(),np.var(X1,ddof =1)))\n",
    "\n",
    "y_stock_service =  [ 0.1370, 0.0358, 0.0136, 0.1741, 0.1001, 0.1088, 0.1563, -0.0004, 0.1032, 0.0740, 0.1148, 0.0971, 0.1119, 0.0821,\\\n",
    "                    0.0164, 0.0145, 0.1012, 0.1385, -0.1027, 0.0526, 0.1205, 0.0447, 0.0871, 0.0559, 0.1002, 0.0765, 0.1003, 0.0787, 0.0659, 0.1360]\n",
    "\n",
    "X2                = np.array(y_stock_service)\n",
    "print('Count, Mean and standard deviation of monthly income of members of Service Grp: %3d, %3.6f and %3.6f' % (len(X2), X2.mean(),np.var(X2,ddof =1)))\n",
    "\n",
    "y_stock_indistrial = [ 0.0674, 0.0711, 0.0569, 0.0248, 0.0542, 0.0800, 0.0255, 0.0834, 0.0499, 0.0339, 0.0873, 0.1385, 0.0529, 0.0906, 0.0284,\\\n",
    "                       0.0582, 0.0766, 0.0412, 0.0910, 0.0876, 0.1077, 0.0148, 0.0471, 0.1066, 0.0044, 0.0294, 0.0655, 0.0284, 0.0390, 0.0728]\n",
    "\n",
    "X3                = np.array(y_stock_indistrial)\n",
    "print('Count, Mean and standard deviation of monthly income of members of Industrial Grp: %3d, %3.6f and %3.6f' % (len(X3), X3.mean(),np.var(X3,ddof =1)))\n"
   ]
  },
  {
   "cell_type": "code",
   "execution_count": 3,
   "metadata": {
    "colab": {},
    "colab_type": "code",
    "id": "bOIKDKygHi3t",
    "outputId": "f39f2730-7635-46f6-9f35-099404c9bcbb"
   },
   "outputs": [
    {
     "data": {
      "text/html": [
       "<div>\n",
       "<style scoped>\n",
       "    .dataframe tbody tr th:only-of-type {\n",
       "        vertical-align: middle;\n",
       "    }\n",
       "\n",
       "    .dataframe tbody tr th {\n",
       "        vertical-align: top;\n",
       "    }\n",
       "\n",
       "    .dataframe thead th {\n",
       "        text-align: right;\n",
       "    }\n",
       "</style>\n",
       "<table border=\"1\" class=\"dataframe\">\n",
       "  <thead>\n",
       "    <tr style=\"text-align: right;\">\n",
       "      <th></th>\n",
       "      <th>Sector</th>\n",
       "      <th>Stock_Return</th>\n",
       "    </tr>\n",
       "  </thead>\n",
       "  <tbody>\n",
       "    <tr>\n",
       "      <th>0</th>\n",
       "      <td>Consumer</td>\n",
       "      <td>0.0632</td>\n",
       "    </tr>\n",
       "    <tr>\n",
       "      <th>1</th>\n",
       "      <td>Consumer</td>\n",
       "      <td>0.1473</td>\n",
       "    </tr>\n",
       "    <tr>\n",
       "      <th>2</th>\n",
       "      <td>Consumer</td>\n",
       "      <td>0.1195</td>\n",
       "    </tr>\n",
       "    <tr>\n",
       "      <th>3</th>\n",
       "      <td>Consumer</td>\n",
       "      <td>0.1236</td>\n",
       "    </tr>\n",
       "    <tr>\n",
       "      <th>4</th>\n",
       "      <td>Consumer</td>\n",
       "      <td>0.1028</td>\n",
       "    </tr>\n",
       "  </tbody>\n",
       "</table>\n",
       "</div>"
      ],
      "text/plain": [
       "     Sector  Stock_Return\n",
       "0  Consumer        0.0632\n",
       "1  Consumer        0.1473\n",
       "2  Consumer        0.1195\n",
       "3  Consumer        0.1236\n",
       "4  Consumer        0.1028"
      ]
     },
     "execution_count": 3,
     "metadata": {},
     "output_type": "execute_result"
    }
   ],
   "source": [
    "import pandas as pd\n",
    "import numpy  as np\n",
    "\n",
    "df1     = pd.DataFrame({'Sector': 'Consumer',   'Stock_Return': y_stock_consumer})\n",
    "df2     = pd.DataFrame({'Sector': 'Service',    'Stock_Return': y_stock_service})\n",
    "df3     = pd.DataFrame({'Sector': 'Industrial', 'Stock_Return': y_stock_indistrial})\n",
    "\n",
    "y_stock_df  = pd.DataFrame()\n",
    "\n",
    "y_stock_df  = y_stock_df.append(df1) \n",
    "y_stock_df  = y_stock_df.append(df2) \n",
    "y_stock_df  = y_stock_df.append(df3) \n",
    "\n",
    "\n",
    "y_stock_df.head()"
   ]
  },
  {
   "cell_type": "markdown",
   "metadata": {
    "colab_type": "text",
    "id": "yTZsFLkhHi3x"
   },
   "source": [
    "#### Hint: Try One-way ANOVA"
   ]
  },
  {
   "cell_type": "code",
   "execution_count": 28,
   "metadata": {
    "colab": {},
    "colab_type": "code",
    "id": "wqp5e0S5Hi3y"
   },
   "outputs": [
    {
     "name": "stdout",
     "output_type": "stream",
     "text": [
      "0.08066440911480482\n",
      "Fail to Reject Ho\n"
     ]
    }
   ],
   "source": [
    "teststats,pvalue = stats.f_oneway(y_stock_consumer,y_stock_service,y_stock_indistrial)\n",
    "print(pvalue)\n",
    "if(pvalue<0.05):\n",
    "    print(\"Reject Ho\")\n",
    "else:\n",
    "    print(\"Fail to Reject Ho\")"
   ]
  },
  {
   "cell_type": "markdown",
   "metadata": {
    "colab_type": "text",
    "id": "Si1dQoH5Hi32"
   },
   "source": [
    "**2 The following table shows the quantity of soaps at different discount of different brands collected over 20 days.**"
   ]
  },
  {
   "cell_type": "code",
   "execution_count": 4,
   "metadata": {
    "colab": {},
    "colab_type": "code",
    "id": "1L5xQ8n6Hi36",
    "outputId": "9a8fb394-6cd8-49ef-f295-324f2ac7dc82"
   },
   "outputs": [
    {
     "name": "stdout",
     "output_type": "stream",
     "text": [
      "   Loc  Brand X  Brand Y  Brand Z\n",
      "0    1       20       28       32\n",
      "1    2       20       19       20\n",
      "2    1       16       23       29\n",
      "3    2       21       27       31\n",
      "4    1       24       25       28\n"
     ]
    }
   ],
   "source": [
    "table1  = [['Loc','Brand X','Brand Y','Brand Z'], [ 1, 20, 28, 32], [ 2, 20, 19, 20],\n",
    "  [ 1, 16, 23, 29 ],[ 2, 21, 27, 31 ],[ 1, 24, 25, 28 ],[ 2, 23, 23, 35 ],\n",
    "  [ 1, 20, 31, 27 ],[ 2, 19, 30, 25 ],[ 1, 19, 25, 30 ],[ 2, 25, 25, 31 ],\n",
    "  [ 1, 10, 24, 26 ],[ 2, 22, 21, 31 ],[ 1, 24, 28, 37 ],[ 2, 25, 33, 31 ],\n",
    "  [ 1, 16, 23, 33 ],[ 2, 21, 26, 23 ],[ 1, 25, 26, 27 ],[ 2, 26, 22, 22 ],\n",
    "  [ 1, 16, 25, 31 ],[ 2, 22, 28, 32 ],[ 1, 18, 22, 37 ],[ 2, 25, 24, 22 ],\n",
    "  [ 1, 20, 24, 28 ],[ 2, 23, 23, 29 ],[ 1, 17, 26, 25 ],[ 2, 23, 26, 25 ],\n",
    "  [ 1, 26, 28, 23 ],[ 2, 24, 16, 34 ],[ 1, 16, 21, 26 ],[ 2, 20, 30, 30 ],\n",
    "  [ 1, 21, 27, 33 ],[2, 23, 22, 25 ],[ 1, 24, 25, 28 ],[ 2, 18, 16, 39 ],\n",
    "  [ 1, 19, 20, 30 ],[ 2, 19, 25, 32 ],[ 1, 19, 26, 30 ],[ 2, 19, 34, 29 ],\n",
    "  [ 1, 21, 26, 26 ],[ 2, 30, 23, 22 ]]\n",
    "\n",
    "headers = table1.pop(0) #\n",
    "\n",
    "df1 = pd.DataFrame(table1, columns=headers)\n",
    "print(df1.head())"
   ]
  },
  {
   "cell_type": "markdown",
   "metadata": {
    "colab_type": "text",
    "id": "ztfZqqtDNur8"
   },
   "source": [
    "This is a two-way ANOVA with replication since the data contains values for multiple locations."
   ]
  },
  {
   "cell_type": "markdown",
   "metadata": {
    "colab_type": "text",
    "id": "LwFVIIt9Nx2g"
   },
   "source": [
    "###Conduct a two-way ANOVA at $\\alpha$ = 5% to test the effects of Brands and location on sales."
   ]
  },
  {
   "cell_type": "code",
   "execution_count": 5,
   "metadata": {
    "colab": {},
    "colab_type": "code",
    "id": "pGA-Mq-7Hi4A",
    "outputId": "1b16eee2-29b6-4c76-9733-7cc19e3b09f3",
    "scrolled": true
   },
   "outputs": [
    {
     "data": {
      "text/html": [
       "<div>\n",
       "<style scoped>\n",
       "    .dataframe tbody tr th:only-of-type {\n",
       "        vertical-align: middle;\n",
       "    }\n",
       "\n",
       "    .dataframe tbody tr th {\n",
       "        vertical-align: top;\n",
       "    }\n",
       "\n",
       "    .dataframe thead th {\n",
       "        text-align: right;\n",
       "    }\n",
       "</style>\n",
       "<table border=\"1\" class=\"dataframe\">\n",
       "  <thead>\n",
       "    <tr style=\"text-align: right;\">\n",
       "      <th></th>\n",
       "      <th>Loc</th>\n",
       "      <th>Brand</th>\n",
       "      <th>Qty</th>\n",
       "    </tr>\n",
       "  </thead>\n",
       "  <tbody>\n",
       "    <tr>\n",
       "      <th>0</th>\n",
       "      <td>1</td>\n",
       "      <td>X</td>\n",
       "      <td>20</td>\n",
       "    </tr>\n",
       "    <tr>\n",
       "      <th>1</th>\n",
       "      <td>2</td>\n",
       "      <td>X</td>\n",
       "      <td>20</td>\n",
       "    </tr>\n",
       "    <tr>\n",
       "      <th>2</th>\n",
       "      <td>1</td>\n",
       "      <td>X</td>\n",
       "      <td>16</td>\n",
       "    </tr>\n",
       "    <tr>\n",
       "      <th>3</th>\n",
       "      <td>2</td>\n",
       "      <td>X</td>\n",
       "      <td>21</td>\n",
       "    </tr>\n",
       "    <tr>\n",
       "      <th>4</th>\n",
       "      <td>1</td>\n",
       "      <td>X</td>\n",
       "      <td>24</td>\n",
       "    </tr>\n",
       "    <tr>\n",
       "      <th>...</th>\n",
       "      <td>...</td>\n",
       "      <td>...</td>\n",
       "      <td>...</td>\n",
       "    </tr>\n",
       "    <tr>\n",
       "      <th>35</th>\n",
       "      <td>2</td>\n",
       "      <td>Z</td>\n",
       "      <td>32</td>\n",
       "    </tr>\n",
       "    <tr>\n",
       "      <th>36</th>\n",
       "      <td>1</td>\n",
       "      <td>Z</td>\n",
       "      <td>30</td>\n",
       "    </tr>\n",
       "    <tr>\n",
       "      <th>37</th>\n",
       "      <td>2</td>\n",
       "      <td>Z</td>\n",
       "      <td>29</td>\n",
       "    </tr>\n",
       "    <tr>\n",
       "      <th>38</th>\n",
       "      <td>1</td>\n",
       "      <td>Z</td>\n",
       "      <td>26</td>\n",
       "    </tr>\n",
       "    <tr>\n",
       "      <th>39</th>\n",
       "      <td>2</td>\n",
       "      <td>Z</td>\n",
       "      <td>22</td>\n",
       "    </tr>\n",
       "  </tbody>\n",
       "</table>\n",
       "<p>120 rows × 3 columns</p>\n",
       "</div>"
      ],
      "text/plain": [
       "    Loc Brand  Qty\n",
       "0     1     X   20\n",
       "1     2     X   20\n",
       "2     1     X   16\n",
       "3     2     X   21\n",
       "4     1     X   24\n",
       "..  ...   ...  ...\n",
       "35    2     Z   32\n",
       "36    1     Z   30\n",
       "37    2     Z   29\n",
       "38    1     Z   26\n",
       "39    2     Z   22\n",
       "\n",
       "[120 rows x 3 columns]"
      ]
     },
     "execution_count": 5,
     "metadata": {},
     "output_type": "execute_result"
    }
   ],
   "source": [
    "d0_val  = df1['Brand X'].values\n",
    "d10_val = df1['Brand Y'].values\n",
    "d20_val = df1['Brand Z'].values\n",
    "l_val   = df1['Loc'].values\n",
    "\n",
    "df1   = pd.DataFrame({'Loc': l_val, 'Brand':'X','Qty': d0_val})\n",
    "df2   = pd.DataFrame({'Loc': l_val, 'Brand':'Y','Qty': d10_val})\n",
    "df3   = pd.DataFrame({'Loc': l_val, 'Brand':'Z','Qty': d20_val})\n",
    "\n",
    "Sale_qty_df = pd.DataFrame()\n",
    "\n",
    "Sale_qty_df = Sale_qty_df.append(df1) \n",
    "Sale_qty_df = Sale_qty_df.append(df2) \n",
    "Sale_qty_df = Sale_qty_df.append(df3) \n",
    "\n",
    "pd.DataFrame(Sale_qty_df)"
   ]
  },
  {
   "cell_type": "code",
   "execution_count": 29,
   "metadata": {
    "colab": {},
    "colab_type": "code",
    "id": "g-sCvK3UHi4F"
   },
   "outputs": [],
   "source": [
    "import statsmodels.api as sm # Anova table generates using library\n",
    "# in order to fit Anova on data, we use ols( Regression Algorithm)\n",
    "from statsmodels.formula.api import ols"
   ]
  },
  {
   "cell_type": "code",
   "execution_count": 30,
   "metadata": {
    "colab": {},
    "colab_type": "code",
    "id": "u5WchwImHi4O"
   },
   "outputs": [
    {
     "name": "stdout",
     "output_type": "stream",
     "text": [
      "              df       sum_sq     mean_sq          F        PR(>F)\n",
      "Brand        2.0  1240.316667  620.158333  39.279968  1.055160e-13\n",
      "Loc          1.0     7.008333    7.008333   0.443898  5.065930e-01\n",
      "Brand:Loc    2.0    84.816667   42.408333   2.686085  7.246036e-02\n",
      "Residual   114.0  1799.850000   15.788158        NaN           NaN\n"
     ]
    }
   ],
   "source": [
    "soap_model= ols(\"Qty~Brand+Loc+Brand:Loc\", data= Sale_qty_df).fit()\n",
    "print(sm.stats.anova_lm(soap_model))"
   ]
  },
  {
   "cell_type": "markdown",
   "metadata": {
    "colab_type": "text",
    "id": "bl1E7puHHi4T"
   },
   "source": [
    "###**3 Blood group of patients of the hospital is given below:**\n",
    "Expected percentage\n",
    "\n",
    "| Blood group | Count |\n",
    "| ------ | --- |\n",
    "| O | 44%|\n",
    "| A | 45% |\n",
    "| B | 8% |\n",
    "| AB | 3% |\n",
    "\n",
    "\n",
    "Observed frequency\n",
    "\n",
    "| Blood group | Count |\n",
    "| ----- | ----|\n",
    "| O | 67 |\n",
    "| A | 83 |\n",
    "| B | 29 |\n",
    "| C | 8 |\n",
    "\n",
    "At 5% level of significance do you have evidence to conclude that there are differences in the distribution of blood groups among patients that is expected as per our prior knowledge.\n",
    "\n"
   ]
  },
  {
   "cell_type": "code",
   "execution_count": 6,
   "metadata": {
    "colab": {},
    "colab_type": "code",
    "id": "S8TuZ_BtHi4U"
   },
   "outputs": [
    {
     "name": "stdout",
     "output_type": "stream",
     "text": [
      "Reject Ho\n"
     ]
    }
   ],
   "source": [
    "obs=[67,83,29,83]\n",
    "exp=[262*0.44,262*0.45,262*0.08,262*0.03]\n",
    "stats,pvalue =stats.chisquare(obs,exp)\n",
    "if(pvalue<0.05):\n",
    "    print(\"Reject Ho\")\n",
    "else:\n",
    "    print(\"Fail to Reject Ho\")"
   ]
  },
  {
   "cell_type": "markdown",
   "metadata": {
    "colab_type": "text",
    "id": "pP_KnLXXHi4c"
   },
   "source": [
    "**4. The shift quality data is given below:**\n",
    "\n",
    "| Shift | Perfect | Satisfactory | Defective |\n",
    "| ---- | ----- | ----- | ----- |\n",
    "| I | 106 | 124 | 1 | \n",
    "|II |  67 | 85 | 1 |\n",
    "| III | 37 | 72 | 3 |\n",
    "\n",
    "At 5% level of significance do you have evidence to conclude that there are differences in quality among the three shifts?\n"
   ]
  },
  {
   "cell_type": "code",
   "execution_count": 7,
   "metadata": {
    "colab": {},
    "colab_type": "code",
    "id": "Obe3A-crHi4e"
   },
   "outputs": [
    {
     "name": "stdout",
     "output_type": "stream",
     "text": [
      "0.07056326693766583\n",
      "Fail to Reject Ho\n"
     ]
    }
   ],
   "source": [
    "import numpy       as np\n",
    "import scipy.stats as stats\n",
    "\n",
    "array1 = np.array([[106,124,1],[67,85,1],[37,72,3]])\n",
    "teststats,pvalue,df,exp=stats.chi2_contingency(array1)\n",
    "print(pvalue)\n",
    "if(pvalue<0.05):\n",
    "    print(\"Reject Ho\")\n",
    "else:\n",
    "    print(\"Fail to Reject Ho\")"
   ]
  },
  {
   "cell_type": "markdown",
   "metadata": {
    "colab_type": "text",
    "id": "Cm-adgoQHi4i"
   },
   "source": [
    "## E N D  "
   ]
  }
 ],
 "metadata": {
  "colab": {
   "name": "Copy of Takehome Exercise - Day - 03 - Questions.ipynb",
   "provenance": []
  },
  "kernelspec": {
   "display_name": "Python 3",
   "language": "python",
   "name": "python3"
  },
  "language_info": {
   "codemirror_mode": {
    "name": "ipython",
    "version": 3
   },
   "file_extension": ".py",
   "mimetype": "text/x-python",
   "name": "python",
   "nbconvert_exporter": "python",
   "pygments_lexer": "ipython3",
   "version": "3.7.9"
  }
 },
 "nbformat": 4,
 "nbformat_minor": 1
}
