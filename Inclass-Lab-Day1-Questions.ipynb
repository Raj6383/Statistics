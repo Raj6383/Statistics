{
 "cells": [
  {
   "cell_type": "markdown",
   "metadata": {
    "colab_type": "text",
    "collapsed": true,
    "id": "jxrbiP9xpCB_"
   },
   "source": [
    "## INCLASS_LAB-EXERCISE-DAY-01"
   ]
  },
  {
   "cell_type": "markdown",
   "metadata": {
    "colab_type": "text",
    "id": "-PwnWU9GpCCC"
   },
   "source": [
    "-----------"
   ]
  },
  {
   "cell_type": "code",
   "execution_count": 23,
   "metadata": {
    "colab": {},
    "colab_type": "code",
    "id": "b_40y1hYpCCD"
   },
   "outputs": [],
   "source": [
    "## CALLING LIBRARIES\n",
    "\n",
    "import numpy as np\n",
    "import pandas as pd\n",
    "import scipy.stats as stats\n",
    "import seaborn as sns\n",
    "import math\n",
    "import matplotlib.pyplot as plt\n",
    "%matplotlib inline"
   ]
  },
  {
   "cell_type": "markdown",
   "metadata": {
    "colab_type": "text",
    "id": "QS9SBTKJpCCI"
   },
   "source": [
    "## Binomial distribution:"
   ]
  },
  {
   "cell_type": "markdown",
   "metadata": {
    "colab_type": "text",
    "id": "odJnlYejpCCJ"
   },
   "source": [
    "1. **Problem:** The percentage of orders filled correctly at Wendy's was approximately 86.8%. Suppose that you go to drive-through window at Wendy's and place an order. Two friends of yours independently place orders at the drive-through window at the same Wendy's.\n",
    "\n",
    "\n",
    "------------------\n",
    "\n",
    "What are the probabilities that \n",
    "* a) all three \n",
    "* b) none of the three\n",
    "* c) atleast two of the three orders will be filled correctly?\n",
    "* d) what is the mean and standard deviation of the orders filled correctly?\n",
    "* e) Plot the binomial distribution function"
   ]
  },
  {
   "cell_type": "code",
   "execution_count": 2,
   "metadata": {
    "colab": {},
    "colab_type": "code",
    "id": "NPdTgZx7pCCK"
   },
   "outputs": [],
   "source": [
    "p   =  0.868 # percentage of orders filled correctly at Wendy's was approximately 86.8%\n",
    "n   =  3\n",
    "q   = 1-p\n",
    "k   =  np.arange(0,4)"
   ]
  },
  {
   "cell_type": "markdown",
   "metadata": {
    "colab_type": "text",
    "id": "rixjejFmpCCN"
   },
   "source": [
    "#### a) all the three orders are filled correctly?\n",
    "-------------"
   ]
  },
  {
   "cell_type": "code",
   "execution_count": 3,
   "metadata": {
    "colab": {},
    "colab_type": "code",
    "id": "Kjc3VPBJpCCO"
   },
   "outputs": [
    {
     "data": {
      "text/plain": [
       "0.653972032"
      ]
     },
     "execution_count": 3,
     "metadata": {},
     "output_type": "execute_result"
    }
   ],
   "source": [
    "stats.binom.pmf(3,n,p)"
   ]
  },
  {
   "cell_type": "markdown",
   "metadata": {
    "colab_type": "text",
    "id": "47TJFhVCpCCR"
   },
   "source": [
    "#### b) none of the three orders are filled correctly?\n",
    "-----------------"
   ]
  },
  {
   "cell_type": "code",
   "execution_count": 4,
   "metadata": {
    "colab": {},
    "colab_type": "code",
    "id": "CZHBl9INpCCS"
   },
   "outputs": [
    {
     "data": {
      "text/plain": [
       "0.002299968"
      ]
     },
     "execution_count": 4,
     "metadata": {},
     "output_type": "execute_result"
    }
   ],
   "source": [
    "stats.binom.pmf(0,n,p)"
   ]
  },
  {
   "cell_type": "markdown",
   "metadata": {
    "colab_type": "text",
    "id": "jlgPsW3NpCCV"
   },
   "source": [
    "**To answer this question** \n",
    "\n",
    "#### c) atleast two of the three orders are filled correctly, we need to find out 1 - Probability of upto 1 failure\n",
    "\n",
    "\n",
    "\n",
    "\n",
    "\n",
    "---------------"
   ]
  },
  {
   "cell_type": "code",
   "execution_count": 5,
   "metadata": {
    "colab": {},
    "colab_type": "code",
    "id": "tNRUKg1CpCCX"
   },
   "outputs": [
    {
     "data": {
      "text/plain": [
       "0.952327936"
      ]
     },
     "execution_count": 5,
     "metadata": {},
     "output_type": "execute_result"
    }
   ],
   "source": [
    "1- stats.binom.cdf(1,n,p)"
   ]
  },
  {
   "cell_type": "markdown",
   "metadata": {
    "colab_type": "text",
    "id": "UmWVUT1TpCCe"
   },
   "source": [
    "#### d) what is the mean and standard deviation of the orders filled correctly?\n",
    "--------------"
   ]
  },
  {
   "cell_type": "code",
   "execution_count": 6,
   "metadata": {
    "colab": {},
    "colab_type": "code",
    "id": "I-3gJrpGpCCf"
   },
   "outputs": [
    {
     "name": "stdout",
     "output_type": "stream",
     "text": [
      "Mean 2.604\n",
      "var 0.5863\n"
     ]
    }
   ],
   "source": [
    "print(\"Mean\",n*p)\n",
    "print(\"var\",np.sqrt(n*p*q).round(4))"
   ]
  },
  {
   "cell_type": "markdown",
   "metadata": {
    "colab_type": "text",
    "id": "JC-NAnfspCCj"
   },
   "source": [
    "#### e). Plot  the binomial distribution function?"
   ]
  },
  {
   "cell_type": "code",
   "execution_count": 7,
   "metadata": {
    "colab": {},
    "colab_type": "code",
    "id": "DuBhP7VSpCCk"
   },
   "outputs": [
    {
     "name": "stdout",
     "output_type": "stream",
     "text": [
      "[0.00229997 0.0453721  0.2983559  0.65397203]\n"
     ]
    },
    {
     "data": {
      "image/png": "[encoded data removed]",
      "text/plain": [
       "<Figure size 432x288 with 1 Axes>"
      ]
     },
     "metadata": {
      "needs_background": "light"
     },
     "output_type": "display_data"
    }
   ],
   "source": [
    "binom1 = stats .binom.pmf(np.arange(0,4),3,0.868)\n",
    "print(binom1)\n",
    "plt.plot(np.arange(0,4),binom1,'*--')\n",
    "plt.xlabel('Order filled correctly')\n",
    "plt.ylabel('Prob of Order filled correctly')\n",
    "plt.title(\"binomial distribution function\")\n",
    "plt.show()"
   ]
  },
  {
   "cell_type": "markdown",
   "metadata": {
    "colab_type": "text",
    "id": "6ciEB5OQpCCn"
   },
   "source": [
    "## Poisson distribution"
   ]
  },
  {
   "cell_type": "markdown",
   "metadata": {
    "colab_type": "text",
    "id": "7lm3mIO2pCCo"
   },
   "source": [
    "#### 2. **Problem:** A Life Insurance agent sells on the average 3 life insurance policies per week. \n",
    "Use the Poisson law to calculate the probability that in a given week, he will sell\n",
    "\n",
    "a) Some policies\n",
    "\n",
    "b) 2 or more but less than 5 policies?\n",
    "\n",
    "c) Plot the Poisson distribution function?"
   ]
  },
  {
   "cell_type": "markdown",
   "metadata": {
    "colab_type": "text",
    "id": "4mWzK8hrpCCp"
   },
   "source": [
    "Here $\\lambda$ = 3"
   ]
  },
  {
   "cell_type": "code",
   "execution_count": 8,
   "metadata": {
    "colab": {},
    "colab_type": "code",
    "id": "2hrqdhcWpCCq"
   },
   "outputs": [],
   "source": [
    "rate =  3 # which is the mean # lambda & mean\n",
    "n    =  np.arange(0,16)\n"
   ]
  },
  {
   "cell_type": "markdown",
   "metadata": {
    "colab_type": "text",
    "id": "jMZkSyJ6pCCt"
   },
   "source": [
    "#### a) Probability that the agent sells some policies?\n",
    "-----------"
   ]
  },
  {
   "cell_type": "code",
   "execution_count": 9,
   "metadata": {
    "colab": {},
    "colab_type": "code",
    "id": "i8-hVUvupCCu"
   },
   "outputs": [
    {
     "data": {
      "text/plain": [
       "0.950212931632136"
      ]
     },
     "execution_count": 9,
     "metadata": {},
     "output_type": "execute_result"
    }
   ],
   "source": [
    "# 1-P(x=0)\n",
    "1-stats.poisson.cdf(0,rate)"
   ]
  },
  {
   "cell_type": "markdown",
   "metadata": {
    "colab_type": "text",
    "id": "dNBVSwmxpCC0"
   },
   "source": [
    "#### b) Agent sells 2 or more but less than 5 policies?\n",
    " ------------"
   ]
  },
  {
   "cell_type": "code",
   "execution_count": 10,
   "metadata": {
    "colab": {},
    "colab_type": "code",
    "id": "eNNKUJ_RpCC0"
   },
   "outputs": [
    {
     "data": {
      "text/plain": [
       "0.6161149710523164"
      ]
     },
     "execution_count": 10,
     "metadata": {},
     "output_type": "execute_result"
    }
   ],
   "source": [
    "stats.poisson.cdf(4,rate) - stats.poisson.cdf(1,rate)"
   ]
  },
  {
   "cell_type": "markdown",
   "metadata": {
    "colab_type": "text",
    "id": "Ky_NxOnbpCC3"
   },
   "source": [
    "#### c) Plot the Poisson distribution function?\n",
    "---------"
   ]
  },
  {
   "cell_type": "code",
   "execution_count": 11,
   "metadata": {
    "colab": {},
    "colab_type": "code",
    "id": "e07ZQNaWpCC4"
   },
   "outputs": [
    {
     "data": {
      "text/plain": [
       "[<matplotlib.lines.Line2D at 0x18e934e3fc8>]"
      ]
     },
     "execution_count": 11,
     "metadata": {},
     "output_type": "execute_result"
    },
    {
     "data": {
      "image/png": "[encoded data removed]",
      "text/plain": [
       "<Figure size 432x288 with 1 Axes>"
      ]
     },
     "metadata": {
      "needs_background": "light"
     },
     "output_type": "display_data"
    }
   ],
   "source": [
    "n=np.arange(0,10)\n",
    "po=stats.poisson.cdf(n,rate) \n",
    "\n",
    "plt.plot(n,po,\"*--\")\n"
   ]
  },
  {
   "cell_type": "code",
   "execution_count": 12,
   "metadata": {},
   "outputs": [
    {
     "data": {
      "text/plain": [
       "[<matplotlib.lines.Line2D at 0x18e935525c8>]"
      ]
     },
     "execution_count": 12,
     "metadata": {},
     "output_type": "execute_result"
    },
    {
     "data": {
      "image/png": "[encoded data removed]",
      "text/plain": [
       "<Figure size 432x288 with 1 Axes>"
      ]
     },
     "metadata": {
      "needs_background": "light"
     },
     "output_type": "display_data"
    }
   ],
   "source": [
    "n=np.arange(0,10)\n",
    "po1=stats.poisson.pmf(n,rate) \n",
    "plt.plot(n,po1,\"o--\")"
   ]
  },
  {
   "cell_type": "markdown",
   "metadata": {
    "colab_type": "text",
    "id": "6-SuVYtMpCC9"
   },
   "source": [
    "## Normal Distribution"
   ]
  },
  {
   "cell_type": "markdown",
   "metadata": {
    "colab_type": "text",
    "id": "Iq0tQk8npCC-"
   },
   "source": [
    "**Problem:** The mean salaries of Data Scientists working in Chennai, India is calculated to be 7,00,000 INR with a standard deviation of 90,000 INR. The random variable salary of Data Scientists follows a normal distribution.\n",
    "\n",
    "\n",
    "-----------------\n",
    "\n",
    "* a) What is the probability that a Data Scientist in Chennai has a salary more than 10,00,000 INR?\n",
    "* b) What is the probability that a Data Scientist in Chennai has a salary between 6,00,000 & 9,00,000 INR?\n",
    "* c) What is the probability that a Data Scientist in Chennai has a salary less than 4,00,000 INR?"
   ]
  },
  {
   "cell_type": "markdown",
   "metadata": {
    "colab_type": "text",
    "id": "z7fk54BnpCC_"
   },
   "source": [
    "#### a) What is the probability that a Data Scientist in Chennai has a salary more than 10,00,000 INR?\n",
    "------------"
   ]
  },
  {
   "cell_type": "code",
   "execution_count": 13,
   "metadata": {
    "colab": {},
    "colab_type": "code",
    "id": "dFcnbUpDpCDA"
   },
   "outputs": [
    {
     "data": {
      "text/plain": [
       "0.0004290603331967846"
      ]
     },
     "execution_count": 13,
     "metadata": {},
     "output_type": "execute_result"
    }
   ],
   "source": [
    "mu=700000\n",
    "sd=90000\n",
    "\n",
    "1-stats.norm.cdf(1000000,mu,sd)"
   ]
  },
  {
   "cell_type": "markdown",
   "metadata": {
    "colab_type": "text",
    "id": "GQuO5dvdpCDD"
   },
   "source": [
    "#### b) What is the probability that a Data Scientist in Chennai has a salary between 6,00,000 & 9,00,000 INR?\n",
    "-----------------"
   ]
  },
  {
   "cell_type": "code",
   "execution_count": 14,
   "metadata": {
    "colab": {},
    "colab_type": "code",
    "id": "zdN6eBPYpCDE"
   },
   "outputs": [
    {
     "data": {
      "text/plain": [
       "0.8536055914064735"
      ]
     },
     "execution_count": 14,
     "metadata": {},
     "output_type": "execute_result"
    }
   ],
   "source": [
    "stats.norm.cdf(900000,mu,sd)-stats.norm.cdf(600000,mu,sd)"
   ]
  },
  {
   "cell_type": "markdown",
   "metadata": {
    "colab_type": "text",
    "id": "m6u51gpnpCDH"
   },
   "source": [
    "#### c) What is the probability that a Data Scientist in Chennai has a salary less than 4,00,000 INR?\n",
    "-------------"
   ]
  },
  {
   "cell_type": "code",
   "execution_count": 15,
   "metadata": {
    "colab": {},
    "colab_type": "code",
    "id": "g5Mnb73kpCDI"
   },
   "outputs": [
    {
     "data": {
      "text/plain": [
       "0.0004290603331968372"
      ]
     },
     "execution_count": 15,
     "metadata": {},
     "output_type": "execute_result"
    }
   ],
   "source": [
    "stats.norm.cdf(400000,mu,sd)"
   ]
  },
  {
   "cell_type": "markdown",
   "metadata": {
    "colab_type": "text",
    "id": "vvxw1E4ppCDM"
   },
   "source": [
    "----------------"
   ]
  },
  {
   "cell_type": "markdown",
   "metadata": {
    "colab_type": "text",
    "id": "vHXHB__tpCDN"
   },
   "source": [
    "**Problem:**. The following table contains the overall miles per Gallon (MPG) of 2017 small SUVs ( n =40).**\n",
    "* Decide whether the data appears to be normally distributed by\n",
    "* a. Mean and median "
   ]
  },
  {
   "cell_type": "code",
   "execution_count": 16,
   "metadata": {
    "colab": {},
    "colab_type": "code",
    "id": "2zj0fM6ZpCDO",
    "outputId": "592077f1-5a43-4e6f-bf3f-8d80c90f7e26"
   },
   "outputs": [
    {
     "name": "stdout",
     "output_type": "stream",
     "text": [
      "[19 20 20 20 21 19 21 19 21 20 20 20 19 21 21 22 20 22 20 20 22 20 22 21\n",
      " 19 19 20 20 21 20 19 18 20 21 21 20 21 21 20 21]\n"
     ]
    }
   ],
   "source": [
    "mpg = np.array([19, 20, 20, 20, 21, 19, 21, 19, 21, 20, 20, 20, 19, 21, 21, 22, 20, 22, 20, 20, 22, 20, 22, 21, 19,\n",
    "                             19, 20, 20, 21, 20, 19, 18, 20, 21, 21, 20, 21, 21, 20,  21])\n",
    "print(mpg)"
   ]
  },
  {
   "cell_type": "code",
   "execution_count": 38,
   "metadata": {
    "colab": {},
    "colab_type": "code",
    "id": "Ea5AM547pCDR"
   },
   "outputs": [
    {
     "data": {
      "text/plain": [
       "(20.275, 20.0)"
      ]
     },
     "execution_count": 38,
     "metadata": {},
     "output_type": "execute_result"
    }
   ],
   "source": [
    "mileage = pd.DataFrame(mpg, columns=[\"mpg\"])\n",
    "\n",
    "np.mean(mpg),np.median(mpg)"
   ]
  },
  {
   "cell_type": "code",
   "execution_count": 35,
   "metadata": {},
   "outputs": [
    {
     "name": "stderr",
     "output_type": "stream",
     "text": [
      "C:\\Users\\LAPTOP\\anaconda3\\lib\\site-packages\\seaborn\\distributions.py:2551: FutureWarning: `distplot` is a deprecated function and will be removed in a future version. Please adapt your code to use either `displot` (a figure-level function with similar flexibility) or `histplot` (an axes-level function for histograms).\n",
      "  warnings.warn(msg, FutureWarning)\n"
     ]
    },
    {
     "data": {
      "image/png": "[encoded data removed]",
      "text/plain": [
       "<Figure size 432x288 with 1 Axes>"
      ]
     },
     "metadata": {
      "needs_background": "light"
     },
     "output_type": "display_data"
    }
   ],
   "source": [
    "sns.distplot(mpg)\n",
    "plt.axvline(np.mean(mpg))\n",
    "plt.axvline(np.median(mpg))\n",
    "plt.title(\"Data appears normally distributed \")\n",
    "plt.show()"
   ]
  },
  {
   "cell_type": "code",
   "execution_count": 39,
   "metadata": {},
   "outputs": [
    {
     "data": {
      "text/plain": [
       "((array([-2.11583547, -1.7314906 , -1.50271646, -1.33321868, -1.19520249,\n",
       "         -1.07683093, -0.97189321, -0.87669641, -0.78885043, -0.70670905,\n",
       "         -0.62908229, -0.55507545, -0.48399287, -0.41527745, -0.34847074,\n",
       "         -0.28318561, -0.2190868 , -0.15587657, -0.09328369, -0.03105452,\n",
       "          0.03105452,  0.09328369,  0.15587657,  0.2190868 ,  0.28318561,\n",
       "          0.34847074,  0.41527745,  0.48399287,  0.55507545,  0.62908229,\n",
       "          0.70670905,  0.78885043,  0.87669641,  0.97189321,  1.07683093,\n",
       "          1.19520249,  1.33321868,  1.50271646,  1.7314906 ,  2.11583547]),\n",
       "  array([18, 19, 19, 19, 19, 19, 19, 19, 20, 20, 20, 20, 20, 20, 20, 20, 20,\n",
       "         20, 20, 20, 20, 20, 20, 20, 21, 21, 21, 21, 21, 21, 21, 21, 21, 21,\n",
       "         21, 21, 22, 22, 22, 22])),\n",
       " (0.9444110701698469, 20.275, 0.9532965921520122))"
      ]
     },
     "execution_count": 39,
     "metadata": {},
     "output_type": "execute_result"
    },
    {
     "data": {
      "image/png": "[encoded data removed]",
      "text/plain": [
       "<Figure size 432x288 with 1 Axes>"
      ]
     },
     "metadata": {
      "needs_background": "light"
     },
     "output_type": "display_data"
    }
   ],
   "source": [
    "stats.probplot(mileage.mpg, plot = plt)\n"
   ]
  },
  {
   "cell_type": "markdown",
   "metadata": {
    "colab_type": "text",
    "id": "e4mtqXGapCDW"
   },
   "source": [
    "----------------"
   ]
  },
  {
   "cell_type": "markdown",
   "metadata": {
    "colab_type": "text",
    "id": "ZDws3VDCpCDY"
   },
   "source": [
    "**Problem:**).What is the sampling error and standard error for the given the population data and sample data.Explain what is sampling error and how can standard error can be reduced.**"
   ]
  },
  {
   "cell_type": "markdown",
   "metadata": {
    "colab_type": "text",
    "id": "vVp74UC0pCDa"
   },
   "source": [
    "**Population data.**"
   ]
  },
  {
   "cell_type": "code",
   "execution_count": 17,
   "metadata": {
    "colab": {},
    "colab_type": "code",
    "id": "kZV4KGMwpCDd"
   },
   "outputs": [],
   "source": [
    "Marks_scored=[60,80,70,75,80,90,100,100,65,75,60,90,70,70,80,50,55,60,70,65,70,55,50,65,70,65,70,65,75,80,90,95,95,85,90,80,75,70,80,85,90,80,75,70,60,65,70,80,75,80,90,65,80,65,70,85,75,70,80,85,65,70,85,80,65,70,80,90,100,60,70,55,60,70,70,70,80,85,90,80,75,70,60,65,70,80,75,80,90,70,85,80,65,70,80,90,100,60,70,80]"
   ]
  },
  {
   "cell_type": "markdown",
   "metadata": {
    "colab_type": "text",
    "id": "s1-j5hHmpCDf"
   },
   "source": [
    "**Sample data.**"
   ]
  },
  {
   "cell_type": "code",
   "execution_count": 18,
   "metadata": {
    "colab": {},
    "colab_type": "code",
    "id": "RHZvkjlSpCDg"
   },
   "outputs": [],
   "source": [
    "sam_marks = [90, 100, 100, 65, 75, 60, 90, 70, 65, 70, 65,\n",
    "             70, 65, 60, 70, 85, 65, 70, 85, 80, 65, 70, 80, 65, 70]"
   ]
  },
  {
   "cell_type": "markdown",
   "metadata": {
    "colab_type": "text",
    "id": "MGul5KLUpCDj"
   },
   "source": [
    "**a).Sampling Error**"
   ]
  },
  {
   "cell_type": "code",
   "execution_count": 43,
   "metadata": {
    "colab": {},
    "colab_type": "code",
    "id": "D4GkFDkYpCDk"
   },
   "outputs": [
    {
     "data": {
      "text/plain": [
       "0.9500000000000028"
      ]
     },
     "execution_count": 43,
     "metadata": {},
     "output_type": "execute_result"
    }
   ],
   "source": [
    "np.mean(Marks_scored) - np.mean(sam_marks)"
   ]
  },
  {
   "cell_type": "markdown",
   "metadata": {
    "colab_type": "text",
    "id": "sN3HDpHjpCDm"
   },
   "source": [
    "**b).standard error**"
   ]
  },
  {
   "cell_type": "code",
   "execution_count": 48,
   "metadata": {
    "colab": {},
    "colab_type": "code",
    "id": "oUBkd8GepCDn"
   },
   "outputs": [
    {
     "data": {
      "text/plain": [
       "2.327373340628157"
      ]
     },
     "execution_count": 48,
     "metadata": {},
     "output_type": "execute_result"
    }
   ],
   "source": [
    "n = len(sam_marks)\n",
    "se = np.std(sam_marks, ddof=1) / np.sqrt(n)\n",
    "se"
   ]
  },
  {
   "cell_type": "markdown",
   "metadata": {
    "colab_type": "text",
    "id": "VUFiylZapCDp"
   },
   "source": [
    "----------------------"
   ]
  },
  {
   "cell_type": "markdown",
   "metadata": {
    "colab_type": "text",
    "id": "lWYKVpLXpCDq"
   },
   "source": [
    "**Problem:** Provided the Population data and sample data.**\n",
    "\n",
    "* a).plot the population data and sample data check how the data is distributed.Give inference wheather the sampling distribution similar to population data."
   ]
  },
  {
   "cell_type": "code",
   "execution_count": 51,
   "metadata": {
    "colab": {},
    "colab_type": "code",
    "id": "494JFSJzpCDs",
    "outputId": "1f9a7fd2-2a0e-4a51-ba79-d11f7561d11d"
   },
   "outputs": [
    {
     "name": "stdout",
     "output_type": "stream",
     "text": [
      "[58 55 53 ... 27 28 28]\n"
     ]
    },
    {
     "data": {
      "image/png": "[encoded data removed]",
      "text/plain": [
       "<Figure size 432x288 with 1 Axes>"
      ]
     },
     "metadata": {
      "needs_background": "light"
     },
     "output_type": "display_data"
    }
   ],
   "source": [
    "np.random.seed(10)\n",
    "population_ages1 = stats.poisson.rvs(loc=18, mu=35, size=150000)\n",
    "population_ages2 = stats.poisson.rvs(loc=18, mu=10, size=100000)\n",
    "population_ages = np.concatenate((population_ages1, population_ages2))\n",
    "sns.histplot(population_ages,bins=100)\n",
    "# RVS = Random values\n",
    "print(population_ages)"
   ]
  },
  {
   "cell_type": "code",
   "execution_count": 50,
   "metadata": {
    "colab": {},
    "colab_type": "code",
    "id": "cjoAG6JxpCDv",
    "outputId": "c9ac06cb-9466-44c2-df59-77c92e69cc26"
   },
   "outputs": [
    {
     "name": "stdout",
     "output_type": "stream",
     "text": [
      "[23 53 52 24 52 29 47 25 35 32 48 21 54 50 25 55 51 28 58 56 46 49 27 63\n",
      " 54 45 49 27 50 58 30 51 50 44 28 30 28 46 49 28 51 61 55 49 26 27 52 53\n",
      " 45 47 26 58 50 62 60 49 29 26 60 53 25 29 54 30 56 28 34 60 46 24 31 53\n",
      " 60 59 64 57 52 49 29 27 44 68 27 55 66 58 51 39 57 48 47 30 26 51 53 55\n",
      " 31 25 25 41 52 27 57 59 31 29 47 51 53 28 62 28 29 52 58 54 50 31 46 31\n",
      " 54 28 52 41 46 47 30 29 49 45 23 50 26 50 48 26 34 49 26 31 27 31 26 61\n",
      " 26 29 28 25 46 33 48 56 51 42 30 30 30 31 39 66 56 42 24 47 33 30 58 63\n",
      " 29 60 25 46 41 52 47 49 23 27 53 48 27 50 58 27 30 51 56 54 43 28 60 44\n",
      " 25 27 21 53 32 63 50 52 53 29 55 49 29 56 47 28 59 33 31 61 32 65 27 27\n",
      " 26 26 39 60 26 51 25 51 28 58 46 28 28 56 28 60 53 56 44 63 25 51 44 47\n",
      " 56 43 57 23 29 53 28 54 28 26 57 54 46 54 26 53 28 58 31 50 54 25 49 29\n",
      " 27 60 28 50 30 52 26 62 33 28 57 52 27 57 46 46 31 56 27 51 24 51 46 23\n",
      " 24 30 26 54 27 27 25 55 34 30 50 55 59 58 34 34 29 26 45 50 49 56 29 54\n",
      " 52 52 23 36 45 29 59 47 27 47 48 46 65 55 31 30 53 29 24 27 30 47 58 26\n",
      " 30 45 46 57 57 28 47 57 60 35 32 26 25 54 22 47 62 25 43 59 24 42 52 47\n",
      " 57 46 51 51 62 45 28 54 61 49 31 57 27 30 50 50 52 28 49 50 49 24 45 31\n",
      " 53 52 26 26 58 32 33 55 61 54 28 31 51 28 52 37 49 57 49 50 32 50 58 51\n",
      " 57 45 52 57 31 29 60 54 56 63 30 48 63 56 49 45 47 53 30 27 24 23 25 55\n",
      " 49 62 54 28 25 28 32 58 27 55 43 47 64 27 25 59 50 27 29 51 54 54 23 26\n",
      " 37 22 26 34 41 29 33 60 29 30 28 57 59 61 27 47 60 47 62 45 42 47 28 24\n",
      " 48 61 41 27 31 48 63 37 31 60 27 60 28 23 64 26 48 54 26 30]\n"
     ]
    },
    {
     "data": {
      "text/plain": [
       "<AxesSubplot:ylabel='Count'>"
      ]
     },
     "execution_count": 50,
     "metadata": {},
     "output_type": "execute_result"
    },
    {
     "data": {
      "image/png": "[encoded data removed]",
      "text/plain": [
       "<Figure size 432x288 with 1 Axes>"
      ]
     },
     "metadata": {
      "needs_background": "light"
     },
     "output_type": "display_data"
    }
   ],
   "source": [
    "\n",
    "np.random.seed(6)\n",
    "sample_ages = np.random.choice(a= population_ages,size=500)            # Sample 500 values\n",
    "print(sample_ages)\n",
    "sns.histplot(sample_ages)"
   ]
  },
  {
   "cell_type": "markdown",
   "metadata": {
    "colab_type": "text",
    "id": "gjIvZQiHpCD3"
   },
   "source": [
    "-------------------"
   ]
  },
  {
   "cell_type": "markdown",
   "metadata": {
    "colab_type": "text",
    "id": "ROK992AEpCD5"
   },
   "source": [
    "**Problem:** Provided the Population data and sample data.\n",
    "\n",
    "* a).calculate a 95% confidence for our mean point estimate:\n",
    "    "
   ]
  },
  {
   "cell_type": "code",
   "execution_count": null,
   "metadata": {
    "colab": {},
    "colab_type": "code",
    "id": "AVno_p7GpCD6",
    "outputId": "30de7c5f-ff2f-4cc0-b011-513773e92df8"
   },
   "outputs": [],
   "source": [
    "np.random.seed(10)\n",
    "population_ages1 = stats.poisson.rvs(loc=18, mu=35, size=150000)\n",
    "population_ages2 = stats.poisson.rvs(loc=18, mu=10, size=100000)\n",
    "population_ages = np.concatenate((population_ages1, population_ages2))\n",
    "\n",
    "population_ages #Population data"
   ]
  },
  {
   "cell_type": "code",
   "execution_count": 52,
   "metadata": {
    "colab": {},
    "colab_type": "code",
    "id": "p07_N5WBpCD_"
   },
   "outputs": [],
   "source": [
    "np.random.seed(10)\n",
    "\n",
    "sample_size = 1000\n",
    "sample = np.random.choice(a= population_ages, size = sample_size)\n",
    "sample_mean = sample.mean()\n",
    "sd=np.std(sample,ddof=1)\n"
   ]
  },
  {
   "cell_type": "markdown",
   "metadata": {
    "colab_type": "text",
    "id": "OqQvegK7pCEC"
   },
   "source": [
    "----------------------"
   ]
  },
  {
   "cell_type": "code",
   "execution_count": 53,
   "metadata": {
    "colab": {},
    "colab_type": "code",
    "id": "1WtNmxQ0pCED"
   },
   "outputs": [
    {
     "data": {
      "text/plain": [
       "(41.689030077975545, 43.35696992202446)"
      ]
     },
     "execution_count": 53,
     "metadata": {},
     "output_type": "execute_result"
    }
   ],
   "source": [
    "stats.t.interval(0.95,len(sample)-1,sample_mean,sd/np.sqrt(len(sample)))"
   ]
  },
  {
   "cell_type": "markdown",
   "metadata": {
    "colab_type": "text",
    "id": "c5_dwaMNpCEG"
   },
   "source": [
    "**Problem:** . Hours spent on studies by 20 students on a course is given in the following table:**"
   ]
  },
  {
   "cell_type": "markdown",
   "metadata": {
    "colab_type": "raw",
    "id": "CPZQsQUCpCEH"
   },
   "source": [
    "\n",
    "|     |     |     |     |     |\n",
    "| --- | --- | --- | --- | --- |   \n",
    "| 4.7 | 9.2 | 9.3 | 11.2| 8   |\n",
    "| 7.6 | 7.4 | 4.9 | 9.2 | 5.3 | \n",
    "| 1.7 | 2.8 | 7.2 | 12.3| 8.6 |\n",
    "| 10.6| 9   | 5.7 | 6.9 | 3.8 |\n"
   ]
  },
  {
   "cell_type": "markdown",
   "metadata": {
    "colab_type": "text",
    "id": "a6zO-eF1pCEJ"
   },
   "source": [
    "\n",
    "**Assume that the population of hours spent follows a normal distribution and the standard deviation is 3.1 hours, calculate the 90% confidence interval for the mean hours spent by the students.**"
   ]
  },
  {
   "cell_type": "code",
   "execution_count": 54,
   "metadata": {
    "colab": {},
    "colab_type": "code",
    "id": "jaRRB2zIpCEK"
   },
   "outputs": [],
   "source": [
    "import numpy as np\n",
    "H           = [ 4.7, 9.2, 9.3, 11.2, 8, 7.6, 7.4, 4.9, 9.2, 5.3, 1.7, 2.8, 7.2, 12.3, 8.6, 10.6, 9, 5.7, 6.9, 3.8]\n",
    "HoursSpent  = np.array(H)"
   ]
  },
  {
   "cell_type": "code",
   "execution_count": 60,
   "metadata": {
    "colab": {},
    "colab_type": "code",
    "id": "6lLsxFnSpCEO"
   },
   "outputs": [
    {
     "data": {
      "text/plain": [
       "(6.129818597900822, 8.410181402099179)"
      ]
     },
     "execution_count": 60,
     "metadata": {},
     "output_type": "execute_result"
    }
   ],
   "source": [
    "sd=3.1\n",
    "n=20\n",
    "m=np.mean(H)\n",
    "se=sd/np.sqrt(n)\n",
    "stats.norm.interval(0.90,m,se)"
   ]
  },
  {
   "cell_type": "markdown",
   "metadata": {
    "colab_type": "text",
    "id": "URnfuXn_pCER"
   },
   "source": [
    "----------------------"
   ]
  },
  {
   "cell_type": "markdown",
   "metadata": {
    "colab_type": "text",
    "id": "hSyFwdxhpCES"
   },
   "source": [
    "**Problem**). The fill amount in 2-liter soft drink bottles is normally distributed, with a mean of 2.0 liters and a standard deviation of 0.05 liter. If the bottles contain less than 95% of the listed net content (1.90 liters, in our case), the manufacturer may be subject to penalty by the state office of consumer affairs. Bottles that have a net content above 2.1 liters may cause excess spillage upon opening. What is the proportion of bottles that will contain.**\n",
    "\n",
    "* a) below 1.96 liters or above 2.2 liters\n",
    "* b) At least how much soft drink is contained in 90% of the bottles?"
   ]
  },
  {
   "cell_type": "markdown",
   "metadata": {
    "colab_type": "text",
    "id": "XbNBzSWlpCES"
   },
   "source": [
    "#### a. below 1.96 liters or above 2.2 liters is?\n",
    "-----------"
   ]
  },
  {
   "cell_type": "code",
   "execution_count": 70,
   "metadata": {
    "colab": {},
    "colab_type": "code",
    "id": "cNQ5sVC8pCET"
   },
   "outputs": [
    {
     "data": {
      "text/plain": [
       "0.2118870698252296"
      ]
     },
     "execution_count": 70,
     "metadata": {},
     "output_type": "execute_result"
    }
   ],
   "source": [
    "mu=2\n",
    "sd=0.05\n",
    "(1 - stats.norm.cdf(2.2,mu,sd)) + (stats.norm.cdf(1.96,mu,sd))"
   ]
  },
  {
   "cell_type": "markdown",
   "metadata": {
    "colab_type": "text",
    "id": "RVvlN4n_pCEV"
   },
   "source": [
    "#### b) At least how much soft drink is contained in 90% of the bottles?\n",
    "------------"
   ]
  },
  {
   "cell_type": "code",
   "execution_count": 72,
   "metadata": {
    "colab": {},
    "colab_type": "code",
    "id": "UU31SpqmpCEW"
   },
   "outputs": [
    {
     "data": {
      "text/plain": [
       "1.93592242172277"
      ]
     },
     "execution_count": 72,
     "metadata": {},
     "output_type": "execute_result"
    }
   ],
   "source": [
    "stats.norm.isf(0.90,mu,sd)"
   ]
  },
  {
   "cell_type": "markdown",
   "metadata": {
    "colab_type": "text",
    "id": "4efJdfM6pCEg"
   },
   "source": [
    "**Problem**). A sample of 100 diabetic patients was chosen to estimate the length of stay at a local hospital. \n",
    "The sample was 4.5 days and the population standard deviation was known to be 1.2 days.**\n",
    "\n",
    "* a) Calculate the 99% confidence interval for the population mean."
   ]
  },
  {
   "cell_type": "markdown",
   "metadata": {
    "colab_type": "text",
    "id": "zJtsgMqdpCEh"
   },
   "source": [
    "**Solution**"
   ]
  },
  {
   "cell_type": "markdown",
   "metadata": {
    "colab_type": "text",
    "id": "J-dWimKxpCEi"
   },
   "source": [
    "a) Calculate the 99% confidence interval for the population mean.\n",
    "\n",
    "It is known that \n",
    "* $\\overline{X}$ = 4.5\n",
    "* $\\sigma$       = 1.2\n",
    "* n              = 100\n",
    "We need to compute $\\overline{X} \\quad \\pm 1.64 \\frac {\\sigma} {\\sqrt{n}}$ "
   ]
  },
  {
   "cell_type": "code",
   "execution_count": 77,
   "metadata": {
    "colab": {},
    "colab_type": "code",
    "id": "4G6qvfvepCEk"
   },
   "outputs": [
    {
     "data": {
      "text/plain": [
       "(4.1848313452337775, 4.8151686547662225)"
      ]
     },
     "execution_count": 77,
     "metadata": {},
     "output_type": "execute_result"
    }
   ],
   "source": [
    "x=4.5\n",
    "sd=1.2\n",
    "se=sd/np.sqrt(100)\n",
    "stats.t.interval(0.99,99,x,se)"
   ]
  },
  {
   "cell_type": "markdown",
   "metadata": {
    "colab_type": "text",
    "id": "nyjZb-ZppCEm"
   },
   "source": [
    "---------------------"
   ]
  },
  {
   "cell_type": "markdown",
   "metadata": {
    "colab_type": "text",
    "id": "nEwYyGtApCEm"
   },
   "source": [
    "**Problem**). Time taken to resolve a customer complaints in days of 100 customers in a Service Organization is given below:**"
   ]
  },
  {
   "cell_type": "markdown",
   "metadata": {
    "colab_type": "raw",
    "id": "SeTsnnikpCEn"
   },
   "source": [
    " |      |      |      |      |      |      |      |      |      |      |\n",
    " | ---  | ---- | ---- | ---- | ---- | ---- | ---- | ---- | ---- | ---- |\n",
    " | 2.50 | 3.26 | 2.79 | 3.74 | 5.60 | 3.24 | 3.65 | 3.91 | 4.35 | 3.35 |\n",
    " | 5.67 | 5.38 | 3.54 | 5.10 | 3.66 | 3.01 | 3.96 | 4.98 | 4.56 | 5.00 |\n",
    " | 5.03 | 5.29 | 4.91 | 4.63 | 2.94 | 3.82 | 4.76 | 2.24 | 4.25 | 3.45 |\n",
    " | 3.14 | 4.64 | 4.56 | 4.61 | 2.68 | 3.61 | 5.46 | 2.83 | 4.84 | 4.31 |\n",
    " | 2.98 | 3.90 | 4.45 | 3.62 | 6.15 | 4.04 | 5.19 | 4.63 | 2.78 | 2.95 |\n",
    " | 3.65 | 4.49 | 3.52 | 4.07 | 4.16 | 5.56 | 2.69 | 6.69 | 1.26 | 3.14 |\n",
    " | 4.71 | 4.80 | 3.41 | 3.18 | 4.64 | 4.23 | 4.36 | 3.94 | 3.81 | 4.26 |\n",
    " | 2.92 | 2.87 | 2.08 | 3.09 | 3.60 | 2.93 | 3.85 | 4.66 | 4.70 | 3.61 |\n",
    " | 5.59 | 3.39 | 3.13 | 4.14 | 4.23 | 4.25 | 4.12 | 5.95 | 4.76 | 4.96 |\n",
    " | 2.27 | 3.77 | 5.25 | 3.05 | 3.20 | 5.22 | 3.84 | 2.24 | 4.75 | 3.07 |\n"
   ]
  },
  {
   "cell_type": "markdown",
   "metadata": {
    "colab_type": "text",
    "id": "lpGZ2nbQpCEo"
   },
   "source": [
    "* a. Construct 95% confidence interval estimate for the population mean days to resolve customer complaints,assuming a normal distribution.\n",
    "* b. Interpret the interval constructed at a."
   ]
  },
  {
   "cell_type": "code",
   "execution_count": 78,
   "metadata": {
    "colab": {},
    "colab_type": "code",
    "id": "F3saGSZ8pCEp",
    "outputId": "276cc6ce-0ff6-4e1c-ec16-f85206f7a4f9"
   },
   "outputs": [
    {
     "name": "stdout",
     "output_type": "stream",
     "text": [
      "Mean of length of stay is 4.0000\n",
      "SD of length of stay is 1.000067\n"
     ]
    }
   ],
   "source": [
    "resolved_in_days = [2.50, 3.26, 2.79, 3.74, 5.60, 3.24, 3.65, 3.91, 4.35, 3.35,\\\n",
    "5.67, 5.38, 3.54, 5.10, 3.66, 3.01, 3.96, 4.98, 4.56, 5.00,\\\n",
    "5.03, 5.29, 4.91, 4.63, 2.94, 3.82, 4.76, 2.24, 4.25, 3.45,\\\n",
    "3.14, 4.64, 4.56, 4.61, 2.68, 3.61, 5.46, 2.83, 4.84, 4.31,\\\n",
    "2.98, 3.90, 4.45, 3.62, 6.15, 4.04, 5.19, 4.63, 2.78, 2.95,\\\n",
    "3.65, 4.49, 3.52, 4.07, 4.16, 5.56, 2.69, 6.69, 1.26, 3.14,\\\n",
    "4.71, 4.80, 3.41, 3.18, 4.64, 4.23, 4.36, 3.94, 3.81, 4.26,\\\n",
    "2.92, 2.87, 2.08, 3.09, 3.60, 2.93, 3.85, 4.66, 4.70, 3.61,\\\n",
    "5.59, 3.39, 3.13, 4.14, 4.23, 4.25, 4.12, 5.95, 4.76, 4.96,\\\n",
    "2.27, 3.77, 5.25, 3.05, 3.20, 5.22, 3.84, 2.24, 4.75, 3.07]\n",
    "resolvedDays = np.array(resolved_in_days)\n",
    "lengthStay = np.array(resolved_in_days)\n",
    "avg        = lengthStay.mean(axis = 0)\n",
    "sd         = np.std(lengthStay,ddof = 1)\n",
    "print('Mean of length of stay is %1.4f' % avg)\n",
    "print('SD of length of stay is %1.6f'   % sd)\n",
    "# Here ddof modifies the divisor of the sum of the squares of the samples-minus-mean"
   ]
  },
  {
   "cell_type": "code",
   "execution_count": 79,
   "metadata": {
    "colab": {},
    "colab_type": "code",
    "id": "KR7vbM2ppCEr"
   },
   "outputs": [
    {
     "data": {
      "text/plain": [
       "(13.737341857444923, 14.262658142555077)"
      ]
     },
     "execution_count": 79,
     "metadata": {},
     "output_type": "execute_result"
    }
   ],
   "source": [
    "n=100\n",
    "x=14.0\n",
    "sd=1.000067\n",
    "se=sd/np.sqrt(100)\n",
    "stats.t.interval(0.99,n-1,x,se)"
   ]
  },
  {
   "cell_type": "markdown",
   "metadata": {
    "colab_type": "text",
    "id": "R7SEJe07pCE0"
   },
   "source": [
    "-----------------------"
   ]
  },
  {
   "cell_type": "markdown",
   "metadata": {
    "colab_type": "text",
    "id": "gQ6Y8UeOpCE0"
   },
   "source": [
    "----------------------------"
   ]
  }
 ],
 "metadata": {
  "colab": {
   "name": "Inclass-Lab-Day1-Questions.ipynb",
   "provenance": []
  },
  "kernelspec": {
   "display_name": "Python 3",
   "language": "python",
   "name": "python3"
  },
  "language_info": {
   "codemirror_mode": {
    "name": "ipython",
    "version": 3
   },
   "file_extension": ".py",
   "mimetype": "text/x-python",
   "name": "python",
   "nbconvert_exporter": "python",
   "pygments_lexer": "ipython3",
   "version": "3.7.9"
  }
 },
 "nbformat": 4,
 "nbformat_minor": 1
}
