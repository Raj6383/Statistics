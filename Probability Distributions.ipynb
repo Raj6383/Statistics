{
 "cells": [
  {
   "cell_type": "code",
   "execution_count": 64,
   "metadata": {},
   "outputs": [],
   "source": [
    "# Importing Libraries\n",
    "\n",
    "import numpy as np\n",
    "import pandas as pd\n",
    "import scipy.stats as stats\n",
    "import matplotlib.pyplot as plt\n",
    "import seaborn as sns"
   ]
  },
  {
   "cell_type": "markdown",
   "metadata": {},
   "source": [
    "5% of all DVD Players Manufactured by a large electronic company are found to be defective. A Quality Control Inspector selects 03 DVD Players. What is the Prob that Exactly One is Defective\n"
   ]
  },
  {
   "cell_type": "code",
   "execution_count": 1,
   "metadata": {},
   "outputs": [],
   "source": [
    "# Given\n",
    "p = 0.05\n",
    "x = 1\n",
    "n = 3"
   ]
  },
  {
   "cell_type": "code",
   "execution_count": 2,
   "metadata": {},
   "outputs": [],
   "source": [
    "import scipy.stats as stats"
   ]
  },
  {
   "cell_type": "code",
   "execution_count": 3,
   "metadata": {},
   "outputs": [
    {
     "data": {
      "text/plain": [
       "0.135375"
      ]
     },
     "execution_count": 3,
     "metadata": {},
     "output_type": "execute_result"
    }
   ],
   "source": [
    "# Point Prob - exactly 1, exactly 2 - stats.binom.pmf()\n",
    "# Probability Mass Function\n",
    "\n",
    "stats.binom.pmf(x, n , p) \n",
    "\n",
    "# P(X>2), P(X<=2):: stats.binom.cdf()\n",
    "# Cumulative Density Function\n"
   ]
  },
  {
   "cell_type": "markdown",
   "metadata": {},
   "source": [
    "A LED bulb manufacturing company regularly conducts quality checks at specified periods on the products it manufactures. Historically, the failure rate for LED light bulbs that the company manufactures is 5%. Suppose a random sample of 10 LED light bulbs is selected. \n",
    "What is the probability that \n",
    "* None of the LED bulbs are defective? \n",
    "* Exactly one of the LED bulbs is defective? \n",
    "* Two or fewer of the LED bulbs are defective?\n",
    "* Three or more of the LED bulbs are defective\n"
   ]
  },
  {
   "cell_type": "code",
   "execution_count": 5,
   "metadata": {},
   "outputs": [
    {
     "name": "stdout",
     "output_type": "stream",
     "text": [
      "The Prob of None Being Defective is  0.5987\n"
     ]
    }
   ],
   "source": [
    "p = 0.05\n",
    "n = 10\n",
    "# None of the LED bulbs are defective\n",
    "\n",
    "print(\"The Prob of None Being Defective is \", stats.binom.pmf(0, n, p).round(4))"
   ]
  },
  {
   "cell_type": "code",
   "execution_count": 6,
   "metadata": {},
   "outputs": [
    {
     "name": "stdout",
     "output_type": "stream",
     "text": [
      "The Prob of None Being Defective is  0.3151\n"
     ]
    }
   ],
   "source": [
    "# Exactly one of the LED bulbs is defective\n",
    "\n",
    "print(\"The Prob of None Being Defective is \", stats.binom.pmf(1, n, p).round(4))"
   ]
  },
  {
   "cell_type": "code",
   "execution_count": 7,
   "metadata": {},
   "outputs": [
    {
     "data": {
      "text/plain": [
       "0.9884964426207031"
      ]
     },
     "execution_count": 7,
     "metadata": {},
     "output_type": "execute_result"
    }
   ],
   "source": [
    "# Two or fewer of the LED bulbs are defective\n",
    "\n",
    "# P(0)+P(1)+P(2):: Cumulative Density Function ~ CDF in the end will give 1\n",
    "\n",
    "stats.binom.cdf(2, n, p)"
   ]
  },
  {
   "cell_type": "code",
   "execution_count": 8,
   "metadata": {},
   "outputs": [
    {
     "data": {
      "text/plain": [
       "0.01150355737929687"
      ]
     },
     "execution_count": 8,
     "metadata": {},
     "output_type": "execute_result"
    }
   ],
   "source": [
    "# Three or more of the LED bulbs are defective\n",
    "1 - stats.binom.cdf(2, n, p)"
   ]
  },
  {
   "cell_type": "code",
   "execution_count": 16,
   "metadata": {},
   "outputs": [],
   "source": [
    "# Prob Distribution Table\n",
    "prob = []\n",
    "CDF = []\n",
    "\n",
    "for i in range(0, 11):\n",
    "    prob.append(stats.binom.pmf(i, 10, 0.05).round(4))\n",
    "    CDF.append(stats.binom.cdf(i, 10, 0.05).round(4))"
   ]
  },
  {
   "cell_type": "code",
   "execution_count": 13,
   "metadata": {},
   "outputs": [
    {
     "data": {
      "text/plain": [
       "[0.5987, 0.3151, 0.0746, 0.0105, 0.001, 0.0001, 0.0, 0.0, 0.0, 0.0, 0.0]"
      ]
     },
     "execution_count": 13,
     "metadata": {},
     "output_type": "execute_result"
    }
   ],
   "source": [
    "prob"
   ]
  },
  {
   "cell_type": "code",
   "execution_count": 14,
   "metadata": {},
   "outputs": [],
   "source": [
    "import pandas as pd"
   ]
  },
  {
   "cell_type": "code",
   "execution_count": 18,
   "metadata": {},
   "outputs": [],
   "source": [
    "df = pd.DataFrame({\"X\":range(0,11), \"P(X)\": prob, \"CDF\":CDF})"
   ]
  },
  {
   "cell_type": "code",
   "execution_count": 19,
   "metadata": {},
   "outputs": [
    {
     "data": {
      "text/html": [
       "<div>\n",
       "<style scoped>\n",
       "    .dataframe tbody tr th:only-of-type {\n",
       "        vertical-align: middle;\n",
       "    }\n",
       "\n",
       "    .dataframe tbody tr th {\n",
       "        vertical-align: top;\n",
       "    }\n",
       "\n",
       "    .dataframe thead th {\n",
       "        text-align: right;\n",
       "    }\n",
       "</style>\n",
       "<table border=\"1\" class=\"dataframe\">\n",
       "  <thead>\n",
       "    <tr style=\"text-align: right;\">\n",
       "      <th></th>\n",
       "      <th>X</th>\n",
       "      <th>P(X)</th>\n",
       "      <th>CDF</th>\n",
       "    </tr>\n",
       "  </thead>\n",
       "  <tbody>\n",
       "    <tr>\n",
       "      <th>0</th>\n",
       "      <td>0</td>\n",
       "      <td>0.5987</td>\n",
       "      <td>0.5987</td>\n",
       "    </tr>\n",
       "    <tr>\n",
       "      <th>1</th>\n",
       "      <td>1</td>\n",
       "      <td>0.3151</td>\n",
       "      <td>0.9139</td>\n",
       "    </tr>\n",
       "    <tr>\n",
       "      <th>2</th>\n",
       "      <td>2</td>\n",
       "      <td>0.0746</td>\n",
       "      <td>0.9885</td>\n",
       "    </tr>\n",
       "    <tr>\n",
       "      <th>3</th>\n",
       "      <td>3</td>\n",
       "      <td>0.0105</td>\n",
       "      <td>0.9990</td>\n",
       "    </tr>\n",
       "    <tr>\n",
       "      <th>4</th>\n",
       "      <td>4</td>\n",
       "      <td>0.0010</td>\n",
       "      <td>0.9999</td>\n",
       "    </tr>\n",
       "    <tr>\n",
       "      <th>5</th>\n",
       "      <td>5</td>\n",
       "      <td>0.0001</td>\n",
       "      <td>1.0000</td>\n",
       "    </tr>\n",
       "    <tr>\n",
       "      <th>6</th>\n",
       "      <td>6</td>\n",
       "      <td>0.0000</td>\n",
       "      <td>1.0000</td>\n",
       "    </tr>\n",
       "    <tr>\n",
       "      <th>7</th>\n",
       "      <td>7</td>\n",
       "      <td>0.0000</td>\n",
       "      <td>1.0000</td>\n",
       "    </tr>\n",
       "    <tr>\n",
       "      <th>8</th>\n",
       "      <td>8</td>\n",
       "      <td>0.0000</td>\n",
       "      <td>1.0000</td>\n",
       "    </tr>\n",
       "    <tr>\n",
       "      <th>9</th>\n",
       "      <td>9</td>\n",
       "      <td>0.0000</td>\n",
       "      <td>1.0000</td>\n",
       "    </tr>\n",
       "    <tr>\n",
       "      <th>10</th>\n",
       "      <td>10</td>\n",
       "      <td>0.0000</td>\n",
       "      <td>1.0000</td>\n",
       "    </tr>\n",
       "  </tbody>\n",
       "</table>\n",
       "</div>"
      ],
      "text/plain": [
       "     X    P(X)     CDF\n",
       "0    0  0.5987  0.5987\n",
       "1    1  0.3151  0.9139\n",
       "2    2  0.0746  0.9885\n",
       "3    3  0.0105  0.9990\n",
       "4    4  0.0010  0.9999\n",
       "5    5  0.0001  1.0000\n",
       "6    6  0.0000  1.0000\n",
       "7    7  0.0000  1.0000\n",
       "8    8  0.0000  1.0000\n",
       "9    9  0.0000  1.0000\n",
       "10  10  0.0000  1.0000"
      ]
     },
     "execution_count": 19,
     "metadata": {},
     "output_type": "execute_result"
    }
   ],
   "source": [
    "df"
   ]
  },
  {
   "cell_type": "markdown",
   "metadata": {},
   "source": [
    "Suppose a study performed at St. Jude’s Hospital shows that 30% of all patients arriving at the emergency room are subsequently admitted to the hospital for at least one night. \n",
    "Assuming that a sample of seven arrived at the emergency room each day: \n",
    "\n",
    "* What is the probability that five or more in the sample of seven will require admittance to the hospital? \n",
    "\n",
    "* What is the expected number of patients in the sample who will require admittance to the hospital?\n"
   ]
  },
  {
   "cell_type": "code",
   "execution_count": 23,
   "metadata": {},
   "outputs": [
    {
     "data": {
      "text/plain": [
       "0.0288"
      ]
     },
     "execution_count": 23,
     "metadata": {},
     "output_type": "execute_result"
    }
   ],
   "source": [
    "p = 0.30\n",
    "n = 7\n",
    "# probability that five or more 1 - P(0)+P(1)+P(2)+...P(4)\n",
    "\n",
    "# exactly P(X=5)\n",
    "# P(X is 5 or more)  = 1 - P(X<=4)\n",
    "\n",
    "(1 - stats.binom.cdf(4, n, p)).round(4) # Prob of 5 or more"
   ]
  },
  {
   "cell_type": "code",
   "execution_count": 49,
   "metadata": {},
   "outputs": [],
   "source": [
    "# What is the expected number of patients in the sample who will require admittance to the hospital\n",
    "# Expected Value is Mean = Sum(X*P(X))\n",
    "prob = []\n",
    "CDF = []\n",
    "\n",
    "for i in range(0, 100):\n",
    "    prob.append(stats.binom.pmf(i, 100, p).round(4))\n",
    "    CDF.append(stats.binom.cdf(i, 100, p).round(4))"
   ]
  },
  {
   "cell_type": "code",
   "execution_count": 50,
   "metadata": {},
   "outputs": [],
   "source": [
    "df = pd.DataFrame({\"X\":range(0, 100), \"P(X)\":prob, \"CDF\": CDF})"
   ]
  },
  {
   "cell_type": "code",
   "execution_count": 30,
   "metadata": {},
   "outputs": [],
   "source": [
    "df[\"X*P(X)\"] = df[\"X\"] * df[\"P(X)\"]"
   ]
  },
  {
   "cell_type": "code",
   "execution_count": 51,
   "metadata": {},
   "outputs": [
    {
     "data": {
      "text/html": [
       "<div>\n",
       "<style scoped>\n",
       "    .dataframe tbody tr th:only-of-type {\n",
       "        vertical-align: middle;\n",
       "    }\n",
       "\n",
       "    .dataframe tbody tr th {\n",
       "        vertical-align: top;\n",
       "    }\n",
       "\n",
       "    .dataframe thead th {\n",
       "        text-align: right;\n",
       "    }\n",
       "</style>\n",
       "<table border=\"1\" class=\"dataframe\">\n",
       "  <thead>\n",
       "    <tr style=\"text-align: right;\">\n",
       "      <th></th>\n",
       "      <th>X</th>\n",
       "      <th>P(X)</th>\n",
       "      <th>CDF</th>\n",
       "    </tr>\n",
       "  </thead>\n",
       "  <tbody>\n",
       "    <tr>\n",
       "      <th>0</th>\n",
       "      <td>0</td>\n",
       "      <td>0.0</td>\n",
       "      <td>0.0</td>\n",
       "    </tr>\n",
       "    <tr>\n",
       "      <th>1</th>\n",
       "      <td>1</td>\n",
       "      <td>0.0</td>\n",
       "      <td>0.0</td>\n",
       "    </tr>\n",
       "    <tr>\n",
       "      <th>2</th>\n",
       "      <td>2</td>\n",
       "      <td>0.0</td>\n",
       "      <td>0.0</td>\n",
       "    </tr>\n",
       "    <tr>\n",
       "      <th>3</th>\n",
       "      <td>3</td>\n",
       "      <td>0.0</td>\n",
       "      <td>0.0</td>\n",
       "    </tr>\n",
       "    <tr>\n",
       "      <th>4</th>\n",
       "      <td>4</td>\n",
       "      <td>0.0</td>\n",
       "      <td>0.0</td>\n",
       "    </tr>\n",
       "    <tr>\n",
       "      <th>...</th>\n",
       "      <td>...</td>\n",
       "      <td>...</td>\n",
       "      <td>...</td>\n",
       "    </tr>\n",
       "    <tr>\n",
       "      <th>95</th>\n",
       "      <td>95</td>\n",
       "      <td>0.0</td>\n",
       "      <td>1.0</td>\n",
       "    </tr>\n",
       "    <tr>\n",
       "      <th>96</th>\n",
       "      <td>96</td>\n",
       "      <td>0.0</td>\n",
       "      <td>1.0</td>\n",
       "    </tr>\n",
       "    <tr>\n",
       "      <th>97</th>\n",
       "      <td>97</td>\n",
       "      <td>0.0</td>\n",
       "      <td>1.0</td>\n",
       "    </tr>\n",
       "    <tr>\n",
       "      <th>98</th>\n",
       "      <td>98</td>\n",
       "      <td>0.0</td>\n",
       "      <td>1.0</td>\n",
       "    </tr>\n",
       "    <tr>\n",
       "      <th>99</th>\n",
       "      <td>99</td>\n",
       "      <td>0.0</td>\n",
       "      <td>1.0</td>\n",
       "    </tr>\n",
       "  </tbody>\n",
       "</table>\n",
       "<p>100 rows × 3 columns</p>\n",
       "</div>"
      ],
      "text/plain": [
       "     X  P(X)  CDF\n",
       "0    0   0.0  0.0\n",
       "1    1   0.0  0.0\n",
       "2    2   0.0  0.0\n",
       "3    3   0.0  0.0\n",
       "4    4   0.0  0.0\n",
       "..  ..   ...  ...\n",
       "95  95   0.0  1.0\n",
       "96  96   0.0  1.0\n",
       "97  97   0.0  1.0\n",
       "98  98   0.0  1.0\n",
       "99  99   0.0  1.0\n",
       "\n",
       "[100 rows x 3 columns]"
      ]
     },
     "execution_count": 51,
     "metadata": {},
     "output_type": "execute_result"
    }
   ],
   "source": [
    "df"
   ]
  },
  {
   "cell_type": "code",
   "execution_count": 32,
   "metadata": {},
   "outputs": [
    {
     "name": "stdout",
     "output_type": "stream",
     "text": [
      "The Expected Value is  2.0999999999999996\n"
     ]
    }
   ],
   "source": [
    "print(\"The Expected Value is \", df[\"X*P(X)\"].sum()) # n*p => 7 * 0.30"
   ]
  },
  {
   "cell_type": "code",
   "execution_count": 39,
   "metadata": {},
   "outputs": [
    {
     "data": {
      "text/html": [
       "<div>\n",
       "<style scoped>\n",
       "    .dataframe tbody tr th:only-of-type {\n",
       "        vertical-align: middle;\n",
       "    }\n",
       "\n",
       "    .dataframe tbody tr th {\n",
       "        vertical-align: top;\n",
       "    }\n",
       "\n",
       "    .dataframe thead th {\n",
       "        text-align: right;\n",
       "    }\n",
       "</style>\n",
       "<table border=\"1\" class=\"dataframe\">\n",
       "  <thead>\n",
       "    <tr style=\"text-align: right;\">\n",
       "      <th></th>\n",
       "      <th>X</th>\n",
       "      <th>P(X)</th>\n",
       "      <th>CDF</th>\n",
       "    </tr>\n",
       "  </thead>\n",
       "  <tbody>\n",
       "    <tr>\n",
       "      <th>0</th>\n",
       "      <td>0</td>\n",
       "      <td>0.0824</td>\n",
       "      <td>0.0824</td>\n",
       "    </tr>\n",
       "    <tr>\n",
       "      <th>1</th>\n",
       "      <td>1</td>\n",
       "      <td>0.2471</td>\n",
       "      <td>0.3294</td>\n",
       "    </tr>\n",
       "    <tr>\n",
       "      <th>2</th>\n",
       "      <td>2</td>\n",
       "      <td>0.3177</td>\n",
       "      <td>0.6471</td>\n",
       "    </tr>\n",
       "    <tr>\n",
       "      <th>3</th>\n",
       "      <td>3</td>\n",
       "      <td>0.2269</td>\n",
       "      <td>0.8740</td>\n",
       "    </tr>\n",
       "    <tr>\n",
       "      <th>4</th>\n",
       "      <td>4</td>\n",
       "      <td>0.0972</td>\n",
       "      <td>0.9712</td>\n",
       "    </tr>\n",
       "    <tr>\n",
       "      <th>5</th>\n",
       "      <td>5</td>\n",
       "      <td>0.0250</td>\n",
       "      <td>0.9962</td>\n",
       "    </tr>\n",
       "    <tr>\n",
       "      <th>6</th>\n",
       "      <td>6</td>\n",
       "      <td>0.0036</td>\n",
       "      <td>0.9998</td>\n",
       "    </tr>\n",
       "    <tr>\n",
       "      <th>7</th>\n",
       "      <td>7</td>\n",
       "      <td>0.0002</td>\n",
       "      <td>1.0000</td>\n",
       "    </tr>\n",
       "  </tbody>\n",
       "</table>\n",
       "</div>"
      ],
      "text/plain": [
       "   X    P(X)     CDF\n",
       "0  0  0.0824  0.0824\n",
       "1  1  0.2471  0.3294\n",
       "2  2  0.3177  0.6471\n",
       "3  3  0.2269  0.8740\n",
       "4  4  0.0972  0.9712\n",
       "5  5  0.0250  0.9962\n",
       "6  6  0.0036  0.9998\n",
       "7  7  0.0002  1.0000"
      ]
     },
     "execution_count": 39,
     "metadata": {},
     "output_type": "execute_result"
    }
   ],
   "source": [
    "df"
   ]
  },
  {
   "cell_type": "code",
   "execution_count": 36,
   "metadata": {},
   "outputs": [
    {
     "data": {
      "text/plain": [
       "0.9177"
      ]
     },
     "execution_count": 36,
     "metadata": {},
     "output_type": "execute_result"
    }
   ],
   "source": [
    "# CDF Returns 1 in the end\n",
    "# Sum of PMF Values will be equal to 1\n",
    "\n",
    "df[\"P(X)\"].sum() # This difference is because of Rounding of Values.\n"
   ]
  },
  {
   "cell_type": "code",
   "execution_count": 52,
   "metadata": {},
   "outputs": [
    {
     "data": {
      "image/png": "[encoded data removed]",
      "text/plain": [
       "<Figure size 432x288 with 1 Axes>"
      ]
     },
     "metadata": {
      "needs_background": "light"
     },
     "output_type": "display_data"
    }
   ],
   "source": [
    "# Plotting the PMF\n",
    "\n",
    "import matplotlib.pyplot as plt\n",
    "\n",
    "plt.plot(df[\"X\"], df[\"P(X)\"], \"o--\", c = 'r')\n",
    "plt.xlabel(\"No of Patients at St. Jude\")\n",
    "plt.ylabel(\"PMF\")\n",
    "plt.title(\"Binom Prob Distt\")\n",
    "plt.show()"
   ]
  },
  {
   "cell_type": "code",
   "execution_count": 53,
   "metadata": {},
   "outputs": [
    {
     "data": {
      "image/png": "[encoded data removed]",
      "text/plain": [
       "<Figure size 432x288 with 1 Axes>"
      ]
     },
     "metadata": {
      "needs_background": "light"
     },
     "output_type": "display_data"
    }
   ],
   "source": [
    "plt.plot(df[\"X\"], df[\"CDF\"], \"o--\", c = 'g')\n",
    "plt.xlabel(\"No of Patients at St. Jude\")\n",
    "plt.ylabel(\"CDF\")\n",
    "plt.title(\"Binom Prob Distt-CDF\")\n",
    "plt.show()"
   ]
  },
  {
   "cell_type": "markdown",
   "metadata": {},
   "source": [
    "#### Summary of PMF and CDF\n",
    "\n",
    "* Questions where it is asked exactly 5, exactly 2, P(X=2) ~ PMF\n",
    "* PMF represents point probability.\n",
    "* Questions use the words - atmost, atleast, more than , less than ~ cdf\n",
    "* CDF represents sum of probabilities.\n"
   ]
  },
  {
   "cell_type": "markdown",
   "metadata": {},
   "source": [
    "## Poisson Distribution\n",
    "\n",
    "On an average, a household receives 9.5 telemarketing phone calls per week. Using Poisson, find the prob that randomly selected household receives exactly 06 calls."
   ]
  },
  {
   "cell_type": "code",
   "execution_count": 38,
   "metadata": {},
   "outputs": [
    {
     "data": {
      "text/plain": [
       "0.07642128438591989"
      ]
     },
     "execution_count": 38,
     "metadata": {},
     "output_type": "execute_result"
    }
   ],
   "source": [
    "# import scipy.stats as stats\n",
    "\n",
    "import math\n",
    "\n",
    "((9.5**6)*(2.71828**-9.5))/math.factorial(6)"
   ]
  },
  {
   "cell_type": "code",
   "execution_count": 37,
   "metadata": {},
   "outputs": [
    {
     "data": {
      "text/plain": [
       "0.07642079604012611"
      ]
     },
     "execution_count": 37,
     "metadata": {},
     "output_type": "execute_result"
    }
   ],
   "source": [
    "stats.poisson.pmf(6, 9.5) # x, lambda"
   ]
  },
  {
   "cell_type": "markdown",
   "metadata": {},
   "source": [
    "The Global Birth Rate and Death Rate is 4.3 per second & 1.8 per second respectively as per the US Census Bureau. \n",
    "\n",
    "If we assume that the global birth and death rates follow the Poisson probability distribution, we can find the probability of any given number of global births or deaths for a given time interval. \n",
    "\n",
    "* Find the probability of at most three global births during any given 1-second interval. \n",
    "* Find the probability of exactly six global births using the Poisson formula. \n",
    "* Find the probability of at most two global deaths\n"
   ]
  },
  {
   "cell_type": "code",
   "execution_count": 39,
   "metadata": {},
   "outputs": [
    {
     "data": {
      "text/plain": [
       "0.3771539277296392"
      ]
     },
     "execution_count": 39,
     "metadata": {},
     "output_type": "execute_result"
    }
   ],
   "source": [
    "# Find the probability of at most three global births during any given 1-second interval.\n",
    "stats.poisson.cdf(3, 4.3) # x = 3, lambda = 4.3"
   ]
  },
  {
   "cell_type": "code",
   "execution_count": 40,
   "metadata": {},
   "outputs": [
    {
     "data": {
      "text/plain": [
       "0.1191274827331984"
      ]
     },
     "execution_count": 40,
     "metadata": {},
     "output_type": "execute_result"
    }
   ],
   "source": [
    "# Find the probability of exactly six global births\n",
    "stats.poisson.pmf(6, 4.3)"
   ]
  },
  {
   "cell_type": "code",
   "execution_count": 41,
   "metadata": {},
   "outputs": [
    {
     "data": {
      "text/plain": [
       "0.7306210859394124"
      ]
     },
     "execution_count": 41,
     "metadata": {},
     "output_type": "execute_result"
    }
   ],
   "source": [
    "# Find the probability of at most two global deaths\n",
    "stats.poisson.cdf(2, 1.8)"
   ]
  },
  {
   "cell_type": "markdown",
   "metadata": {},
   "source": [
    "Assuming that the weekly demand for the video recorder is a Poisson variable with mean 3, find the probability that the shop sells \n",
    "* at least 3 in a week \n",
    "* at most 7 in a week"
   ]
  },
  {
   "cell_type": "code",
   "execution_count": 42,
   "metadata": {},
   "outputs": [
    {
     "data": {
      "text/plain": [
       "0.5768099188731564"
      ]
     },
     "execution_count": 42,
     "metadata": {},
     "output_type": "execute_result"
    }
   ],
   "source": [
    "1 - stats.poisson.cdf(2, 3) # at least 3 in a week"
   ]
  },
  {
   "cell_type": "code",
   "execution_count": 43,
   "metadata": {},
   "outputs": [
    {
     "data": {
      "text/plain": [
       "0.9880954961436426"
      ]
     },
     "execution_count": 43,
     "metadata": {},
     "output_type": "execute_result"
    }
   ],
   "source": [
    "stats.poisson.cdf(7, 3) # at most 7 in a week"
   ]
  },
  {
   "cell_type": "markdown",
   "metadata": {},
   "source": [
    "## Normal Distribution\n",
    "\n",
    "\n",
    "According to a Sallie Mae survey and credit bureau data, in 2008, college students carried an average of $3173 debt on their credit cards (USA TODAY, April 13, 2009). \n",
    "\n",
    "Suppose that current credit card debts for all college students have a normal distribution with a mean of 3173 and a standard deviation of 800. \n",
    "\n",
    "Find the probability that credit card debt for a randomly selected college student is between $2109 and 3605.\n"
   ]
  },
  {
   "cell_type": "code",
   "execution_count": 45,
   "metadata": {},
   "outputs": [
    {
     "name": "stdout",
     "output_type": "stream",
     "text": [
      "-1.33 0.54\n"
     ]
    }
   ],
   "source": [
    "mu = 3173\n",
    "sd = 800\n",
    "\n",
    "zscore1 = (2109-mu)/sd # 2109\n",
    "zscore2 = (3605-mu)/sd # 3605\n",
    "\n",
    "print(zscore1, zscore2)\n",
    "stats.norm.cdf(zscore2) - stats.norm.cdf(zscore1)"
   ]
  },
  {
   "cell_type": "code",
   "execution_count": 47,
   "metadata": {},
   "outputs": [
    {
     "data": {
      "text/plain": [
       "0.6136423481340212"
      ]
     },
     "execution_count": 47,
     "metadata": {},
     "output_type": "execute_result"
    }
   ],
   "source": [
    "# Direct Approach - Does not involve the step of calc. Z Score.\n",
    "stats.norm.cdf(3605, mu, sd)-stats.norm.cdf(2109, mu, sd)"
   ]
  },
  {
   "cell_type": "markdown",
   "metadata": {},
   "source": [
    "A survey on use of smart phones in India was conducted and it is observed the smart phone users spend 68 minutes in a day on average in sending messages and the corresponding standard deviation is 12 minutes.\n",
    "Assume that the time spent in sending messages follows a normal distribution. \n",
    "\n",
    "* a) What proportion of the smart phone users are spending more than 90 minutes in sending messages daily?\n",
    "* b) What proportion of customers are spending less than 20 minutes?\n",
    "* c) What proportion of customers are spending between 50 minutes and 100 minutes?\n"
   ]
  },
  {
   "cell_type": "code",
   "execution_count": 48,
   "metadata": {},
   "outputs": [
    {
     "data": {
      "text/plain": [
       "0.03337650758481725"
      ]
     },
     "execution_count": 48,
     "metadata": {},
     "output_type": "execute_result"
    }
   ],
   "source": [
    "# pdf ~ kde in seaborn library\n",
    "mu = 68\n",
    "sd = 12\n",
    "\n",
    "# Spending more than 90 minutes in sending messages daily\n",
    "\n",
    "1 - stats.norm.cdf(90,mu,sd)"
   ]
  },
  {
   "cell_type": "code",
   "execution_count": 53,
   "metadata": {},
   "outputs": [
    {
     "data": {
      "text/plain": [
       "3.167124183311986e-05"
      ]
     },
     "execution_count": 53,
     "metadata": {},
     "output_type": "execute_result"
    }
   ],
   "source": [
    "# What proportion of customers are spending less than 20 minutes\n",
    "stats.norm.cdf((20-mu)/sd)\n"
   ]
  },
  {
   "cell_type": "code",
   "execution_count": 52,
   "metadata": {},
   "outputs": [
    {
     "data": {
      "text/plain": [
       "0.9293624181635521"
      ]
     },
     "execution_count": 52,
     "metadata": {},
     "output_type": "execute_result"
    }
   ],
   "source": [
    "# What proportion of customers are spending between 50 minutes and 100 minutes\n",
    "stats.norm.cdf(100, mu, sd) - stats.norm.cdf(50, mu, sd)"
   ]
  },
  {
   "cell_type": "markdown",
   "metadata": {},
   "source": [
    "Hupper Corporation produces many types of soft drinks, including Orange Cola. The filling machines are adjusted to pour 12 ounces of soda into each 12-ounce can of Orange Cola. \n",
    "However, the actual amount of soda poured into each can is not exactly 12 ounces; it varies from can to can. \n",
    "It has been observed that the net amount of soda in such a can has a normal distribution with a mean of 12 ounces and a standard deviation of .015 ounce.\n",
    "* (a) What is the probability that a randomly selected can of Orange Cola contains 11.97 to 11.99 ounces of soda?\n",
    "* (b) What percentage of the Orange Cola cans contain 12.02 to 12.07 ounces of soda?\n"
   ]
  },
  {
   "cell_type": "code",
   "execution_count": null,
   "metadata": {},
   "outputs": [],
   "source": [
    "\n"
   ]
  },
  {
   "cell_type": "markdown",
   "metadata": {},
   "source": [
    "## Sampling Error\n",
    "\n",
    "population = [12,4,2,3,4,6,5,75,7,8,56,78,9,97,6,5,4,3,45,6,78,97,65,45,67,89,87,65,456,789,60, 98,7654,35678,909,8765,434,567,89,80]\n",
    "\n",
    "sample = [1,23,45,67,89,87,43,2,3,4,56,7,8,9,6,5,4,3,45,6,78,97,65,45,67,89,87,65,456,789,6]\n"
   ]
  },
  {
   "cell_type": "code",
   "execution_count": 146,
   "metadata": {},
   "outputs": [],
   "source": [
    "population = [12,4,2,3,4,6,5,75,7,8,56,78,9,97,6,5,4,3,45,6,\n",
    "              78,97,65,45,67,89,87,65,456,789,60, 98,7654,35678,909,8765,434,567,89,80]\n",
    "\n",
    "sample = [1,23,45,67,89,87,43,2,3,4,56,7,8,9,6,5,4,3,45,\n",
    "          6,78,97,65,45,67,89,87,65,456,789,6]"
   ]
  },
  {
   "cell_type": "code",
   "execution_count": 149,
   "metadata": {},
   "outputs": [
    {
     "data": {
      "text/plain": [
       "1339.1427419354839"
      ]
     },
     "execution_count": 149,
     "metadata": {},
     "output_type": "execute_result"
    }
   ],
   "source": [
    "# Sampling Error - Difference between the Pop Mean and the Sample Mean\n",
    "np.mean(population) - np.mean(sample)\n",
    "\n",
    "# Why Sampling Error Happens?\n",
    "# It happens because of the random chance variation"
   ]
  },
  {
   "cell_type": "markdown",
   "metadata": {},
   "source": [
    "### Non Sampling Error - \n",
    "* When the samples are not drawn at Random\n",
    "* Tabulation error\n",
    "* Error in Capturing Records."
   ]
  },
  {
   "cell_type": "code",
   "execution_count": 132,
   "metadata": {},
   "outputs": [],
   "source": [
    "scores = [70, 78, 80, 80, 95]"
   ]
  },
  {
   "cell_type": "code",
   "execution_count": 133,
   "metadata": {},
   "outputs": [],
   "source": [
    "from itertools import combinations"
   ]
  },
  {
   "cell_type": "code",
   "execution_count": 137,
   "metadata": {},
   "outputs": [],
   "source": [
    "df = pd.DataFrame(list(combinations(scores, 3)))"
   ]
  },
  {
   "cell_type": "code",
   "execution_count": 141,
   "metadata": {},
   "outputs": [],
   "source": [
    "df[\"xbar\"] = df.mean(axis =1).round(3)"
   ]
  },
  {
   "cell_type": "code",
   "execution_count": 143,
   "metadata": {},
   "outputs": [
    {
     "data": {
      "text/plain": [
       "80.6"
      ]
     },
     "execution_count": 143,
     "metadata": {},
     "output_type": "execute_result"
    }
   ],
   "source": [
    "df.xbar.mean()"
   ]
  },
  {
   "cell_type": "code",
   "execution_count": 145,
   "metadata": {},
   "outputs": [
    {
     "data": {
      "text/plain": [
       "80.6"
      ]
     },
     "execution_count": 145,
     "metadata": {},
     "output_type": "execute_result"
    }
   ],
   "source": [
    "np.mean(scores)"
   ]
  },
  {
   "attachments": {},
   "cell_type": "markdown",
   "metadata": {},
   "source": [
    "The mean wage per hour for all 5000 employees who work at a large company is 27.50, and the standard deviation is $3.70. \n",
    "Let x be the mean wage per hour for a random sample of certain employees selected from this company. Find the mean and standard deviation of x for a sample size of 30, 75 and 200\n"
   ]
  },
  {
   "cell_type": "code",
   "execution_count": 150,
   "metadata": {},
   "outputs": [
    {
     "name": "stdout",
     "output_type": "stream",
     "text": [
      "27.5\n",
      "0.6755244875897048\n"
     ]
    }
   ],
   "source": [
    "# Mean of Samples is equal to Pop Mean\n",
    "\n",
    "# Population mean (mew) is Mean of all the sample mean\n",
    "# mew(xbar) = mew = 27.50\n",
    "\n",
    "mew_xbar = 27.50\n",
    "\n",
    "# Case 1 - n = 30\n",
    "n = 30\n",
    "sample_sd_xbar = 3.70/np.sqrt(30) # SD/sqrt(n)\n",
    "print(mew_xbar)\n",
    "print(sample_sd_xbar)\n",
    "\n",
    "# As the Sample Size Increases, the SD of Samples decrease... at 200, it will be very less than n at 30."
   ]
  },
  {
   "attachments": {},
   "cell_type": "markdown",
   "metadata": {},
   "source": [
    "Assume that the weights of all packages of a certain brand of cookies are approximately normally distributed with a mean of 32 ounces and a standard deviation of .3 ounce. \n",
    "\n",
    "Find the probability that the mean weight, x, of a random sample of 20 packages of this brand of cookies will be between 31.8 and 31.9 ounces. \n"
   ]
  },
  {
   "cell_type": "code",
   "execution_count": 151,
   "metadata": {},
   "outputs": [
    {
     "data": {
      "text/plain": [
       "0.06658400766103063"
      ]
     },
     "execution_count": 151,
     "metadata": {},
     "output_type": "execute_result"
    }
   ],
   "source": [
    "mew = 32\n",
    "popsd = 0.3\n",
    "n = 20\n",
    "\n",
    "# Generally sd/root(n) is called Standard Error.\n",
    "se = popsd/np.sqrt(n)\n",
    "\n",
    "# Z score value for Xbar = (xbar - popmean)/se\n",
    "\n",
    "stats.norm.cdf(31.9, mew, se) - stats.norm.cdf(31.8, mew, se)"
   ]
  },
  {
   "cell_type": "code",
   "execution_count": 152,
   "metadata": {},
   "outputs": [
    {
     "data": {
      "text/plain": [
       "0.06708203932499368"
      ]
     },
     "execution_count": 152,
     "metadata": {},
     "output_type": "execute_result"
    }
   ],
   "source": [
    "se"
   ]
  },
  {
   "attachments": {},
   "cell_type": "markdown",
   "metadata": {},
   "source": [
    "### Central Limit Theorem\n",
    "\n",
    "* Acc to CLT, for any sample size, the sampling distribution of xbar is approximately normal irrespective of the shape of the pop. distributon.\n",
    "\n",
    "* The mean and SD would be the same that we studied above mew_xbar = pop mean and SD(Sample) = popsd/root(n)\n",
    "\n",
    "* For the shapes to be normal (if they are not normal), we need to consider the size of the data. Ideal size of the data should be 30 and above. \n",
    "\n",
    "* So, if the data is 30 rows and above then we assume that the shape would be either normal or approximately normal.\n",
    "\n",
    "* To test the same, we use Shapiro Wilk Test of Normality.\n",
    "* The Same can be visualized using ProbPlot, KDEPLOT, ColumnGraphs, Histograms(tentative).\n",
    "\n",
    "\n",
    "Q. According to a Sallie Mae survey and credit bureau data, in 2008, college students carried an average of 3173 debt on their credit cards (USA TODAY, April 13, 2009). Suppose that current credit card debts for all college students have a unknown distribution with a mean of 3173 and a standard deviation of 750. \n",
    "Let xbar be the mean credit card debt of a random sample of 400 students:\n",
    "\n",
    "* What is the prob that the mean of the CC debt is within 70 of the pop mean.\n",
    "* What is the prob that the mean of the CC debt is lower than  pop mean by 50 or more.\n"
   ]
  },
  {
   "cell_type": "code",
   "execution_count": 158,
   "metadata": {},
   "outputs": [
    {
     "data": {
      "text/plain": [
       "0.09121121972586788"
      ]
     },
     "execution_count": 158,
     "metadata": {},
     "output_type": "execute_result"
    }
   ],
   "source": [
    "popmean = 3173\n",
    "popsd = 750\n",
    "n =400\n",
    "\n",
    "se = popsd/np.sqrt(n)\n",
    "\n",
    "# prob that the mean of the CC debt is within 70 of the pop mean\n",
    "\n",
    "# (3173 - 70), 3173, (3173+70)  P(3103<=xbar<=3243)\n",
    "\n",
    "stats.norm.cdf(3243, popmean, se)-stats.norm.cdf(3103, popmean, se)\n",
    "\n",
    "# prob that the mean of the CC debt is lower than pop mean by 50 or more. (3173-50)::3123\n",
    "\n",
    "stats.norm.cdf(3123, popmean, se)"
   ]
  },
  {
   "cell_type": "code",
   "execution_count": 161,
   "metadata": {},
   "outputs": [
    {
     "data": {
      "text/plain": [
       "1.6448536269514722"
      ]
     },
     "execution_count": 161,
     "metadata": {},
     "output_type": "execute_result"
    }
   ],
   "source": [
    "stats.norm.ppf(0.95) # isf and ppf functions take prob value and return z value"
   ]
  },
  {
   "cell_type": "code",
   "execution_count": null,
   "metadata": {},
   "outputs": [],
   "source": []
  }
 ],
 "metadata": {
  "kernelspec": {
   "display_name": "Python 3",
   "language": "python",
   "name": "python3"
  },
  "language_info": {
   "codemirror_mode": {
    "name": "ipython",
    "version": 3
   },
   "file_extension": ".py",
   "mimetype": "text/x-python",
   "name": "python",
   "nbconvert_exporter": "python",
   "pygments_lexer": "ipython3",
   "version": "3.7.6"
  }
 },
 "nbformat": 4,
 "nbformat_minor": 4
}
