{
 "cells": [
  {
   "cell_type": "markdown",
   "metadata": {
    "colab_type": "text",
    "collapsed": true,
    "id": "DLRw-o6IPftV"
   },
   "source": [
    "## TAKE HOME EXERCISE "
   ]
  },
  {
   "cell_type": "code",
   "execution_count": 1,
   "metadata": {},
   "outputs": [],
   "source": [
    "import numpy             as np\n",
    "import pandas            as pd\n",
    "import scipy.stats       as stats\n",
    "import matplotlib.pyplot as plt\n",
    "%matplotlib inline\n",
    "import seaborn           as sns\n",
    "import math"
   ]
  },
  {
   "cell_type": "markdown",
   "metadata": {
    "colab_type": "raw",
    "id": "bsPn-kkfPftX"
   },
   "source": [
    "Example: The following data represent the amount of soft drink filled in a sample of 50 consecutive 2-liter bottles as shown below:\n",
    "\n",
    "|       |       |       |       |       |       |       |       |       |       |\n",
    "| ----- | ----- | ----- | ----- | ----- | ----- | ----- | ----- | ----- | ----- |\n",
    "| 2.109 | 2.086 | 2.066 | 2.075 | 2.065 | 2.057 | 2.052 | 2.044 | 2.036 | 2.038 | \n",
    "| 2.031 | 2.029 | 2.025 | 2.029 | 2.023 | 2.020 | 2.015 | 2.014 | 2.013 | 2.014 | \n",
    "| 2.012 | 2.012 | 2.012 | 2.010 | 2.005 | 2.003 | 1.999 | 1.996 | 1.997 | 1.992 | \n",
    "| 1.994 | 1.986 | 1.984 | 1.981 | 1.973 | 1.975 | 1.971 | 1.969 | 1.966 | 1.967 | \n",
    "| 1.963 | 1.957 | 1.951 | 1.951 | 1.947 | 1.941 | 1.941 | 1.938 | 1.908 | 1.894 | \n",
    "\n",
    "At 5% level of significance, is there evidence that the mean amount of soft drink filled is different from 2 litres? \n"
   ]
  },
  {
   "cell_type": "markdown",
   "metadata": {
    "colab_type": "text",
    "id": "AqIgXlnbPftZ"
   },
   "source": [
    "#### 1.Use the following piece of code and try t test for one sample"
   ]
  },
  {
   "cell_type": "code",
   "execution_count": 2,
   "metadata": {
    "colab": {},
    "colab_type": "code",
    "id": "h13xm2aaPfta",
    "outputId": "8c028ee9-1e84-4b2d-d355-cfb3dbaca8e5"
   },
   "outputs": [
    {
     "name": "stdout",
     "output_type": "stream",
     "text": [
      "Mean is 2.00 and standard deviation is 0.04\n"
     ]
    }
   ],
   "source": [
    "import numpy       as np\n",
    "import scipy.stats as stats\n",
    "volume = np.array([2.109, 2.086, 2.066, 2.075, 2.065, 2.057, 2.052, 2.044, 2.036, 2.038, \\\n",
    "                   2.031, 2.029, 2.025, 2.029, 2.023, 2.020, 2.015, 2.014, 2.013, 2.014,\\\n",
    "                   2.012, 2.012, 2.012, 2.010, 2.005, 2.003, 1.999, 1.996, 1.997, 1.992,\\\n",
    "                   1.994, 1.986, 1.984, 1.981, 1.973, 1.975, 1.971, 1.969, 1.966, 1.967,\\\n",
    "                   1.963, 1.957, 1.951, 1.951, 1.947, 1.941, 1.941, 1.938, 1.908, 1.894])\n",
    "\n",
    "print('Mean is %3.2f and standard deviation is %3.2f' %(volume.mean(),np.std(volume,ddof = 1)))"
   ]
  },
  {
   "cell_type": "code",
   "execution_count": 16,
   "metadata": {},
   "outputs": [
    {
     "name": "stdout",
     "output_type": "stream",
     "text": [
      "Degrees of Freedom 49\n",
      "Standard Error  0.006238912725788041\n",
      "The Test Statistic is  0.11424484790269986\n",
      "The PValue is  0.9095105442498921\n",
      "Fail to Reject the Ho\n"
     ]
    }
   ],
   "source": [
    "xbar=np.mean(volume)\n",
    "mu=2.00\n",
    "n=50\n",
    "df=49\n",
    "alpha=0.05\n",
    "sd=np.std(volume)\n",
    "se=sd/np.sqrt(n)\n",
    "print(\"Degrees of Freedom\", df)\n",
    "print(\"Standard Error \", se)\n",
    "teststats1,pvalue1 = stats.ttest_1samp(volume,mu)\n",
    "print(\"The Test Statistic is \", teststats1)\n",
    "print(\"The PValue is \", pvalue1)\n",
    "# Conclusion\n",
    "\n",
    "if(pvalue1>alpha):\n",
    "    print(\"Fail to Reject the Ho\")\n",
    "else:\n",
    "    print(\"Reject the Ho \")\n",
    "\n",
    "\n",
    "\n",
    "# We fail to reject the HO "
   ]
  },
  {
   "cell_type": "markdown",
   "metadata": {
    "colab_type": "text",
    "id": "EU-Xuwr3yQL-"
   },
   "source": [
    "**2. The hardness data of 25 samples of annealed iron is given below: 174 179 179 187 179 183 179 156 163 156 187 156 167 156 174 170 183 179 174 179 170 159 187\n",
    "At 5% level of significance, can you say that the hardness is greater than 170?**\n"
   ]
  },
  {
   "cell_type": "code",
   "execution_count": 12,
   "metadata": {},
   "outputs": [
    {
     "name": "stdout",
     "output_type": "stream",
     "text": [
      "Degrees of Freedom 24\n",
      "Standard Error  2.090395716917763\n",
      "The Test Statistic is  1.2877422021643812\n",
      "The PValue is  0.21121745659874802\n",
      "Fail to Reject the Ho\n"
     ]
    }
   ],
   "source": [
    "iron= [174 ,179, 179, 187, 179, 183, 179, 156, 163, 156, 187, 156, 167, 156, 174, 170, 183, 179, 174, 179, 170, 159, 187,]\n",
    "xbar=np.mean(iron)\n",
    "mu=170\n",
    "n=25\n",
    "df=24\n",
    "alpha=0.05\n",
    "sd=np.std(iron)\n",
    "se=sd/np.sqrt(n)\n",
    "print(\"Degrees of Freedom\", df)\n",
    "print(\"Standard Error \", se)\n",
    "teststats,pvalue = stats.ttest_1samp(iron,mu)\n",
    "print(\"The Test Statistic is \", teststats)\n",
    "print(\"The PValue is \", pvalue)\n",
    "# Conclusion\n",
    "\n",
    "if(pvalue>alpha):\n",
    "    print(\"Fail to Reject the Ho\")\n",
    "else:\n",
    "    print(\"Reject the Ho meaning that the Mean Value is Different from the Hypothesized Mean\")"
   ]
  },
  {
   "cell_type": "markdown",
   "metadata": {
    "colab_type": "text",
    "id": "8hooxoHjPfti"
   },
   "source": [
    "**3. Sugar consumption in grams of 20 patients (both diabetic and non-diabetic) are given below:**\n",
    "**At 5% level of significance, is there any evidence that the mean sugar consumption is different for diabetic and non-diabetic?    \n",
    "In the following table, 0 means diabetic and 1 means non-diabetic.**\n",
    "    "
   ]
  },
  {
   "cell_type": "code",
   "execution_count": 4,
   "metadata": {
    "colab": {},
    "colab_type": "code",
    "id": "raDssEELPftj"
   },
   "outputs": [],
   "source": [
    "import numpy       as np\n",
    "import scipy.stats as stats\n",
    "weight               = np.array([[9.31, 0],[7.76, 0],[6.98, 1],[7.88, 1],[8.49, 1],[10.05, 1],[8.80, 1],[10.88, 1],[6.13, 1],[7.90, 1], \\\n",
    "                            [11.51, 0],[12.59, 0],[7.05, 1],[11.85, 0],[9.99, 0],[7.48, 0],[8.79, 0],[8.69, 1],[9.68, 0],[8.58, 1],\\\n",
    "                           [9.19, 0],[8.11, 1]])\n",
    "\n",
    "sugar_diabetic       = weight[:,1] == 0\n",
    "sugar_diabetic       = weight[sugar_diabetic][:,0]\n",
    "sugar_nondiabetic    = weight[:,1] == 1\n",
    "sugar_nondiabetic    = weight[sugar_nondiabetic][:,0] "
   ]
  },
  {
   "cell_type": "code",
   "execution_count": 5,
   "metadata": {},
   "outputs": [
    {
     "data": {
      "text/plain": [
       "Ttest_indResult(statistic=2.3730593333971224, pvalue=0.02777741611352253)"
      ]
     },
     "execution_count": 5,
     "metadata": {},
     "output_type": "execute_result"
    }
   ],
   "source": [
    "stats.ttest_ind(sugar_diabetic,sugar_nondiabetic)\n",
    "# Reject the HO"
   ]
  },
  {
   "cell_type": "markdown",
   "metadata": {
    "colab_type": "text",
    "id": "D35XTo8ayoek"
   },
   "source": [
    "### Hint: Independent two samples test"
   ]
  },
  {
   "cell_type": "markdown",
   "metadata": {
    "colab_type": "text",
    "id": "GXl2s3iXPftp"
   },
   "source": [
    "**4. The delivery time of Pizza from an online food delivery service firm and the home delivery from a local restaurant are given below: At 5% level of significance, is the mean delivery time for online delivery food service firm is less than the mean delivery time for the home delivery from a local restaurant.**"
   ]
  },
  {
   "cell_type": "code",
   "execution_count": 6,
   "metadata": {
    "colab": {},
    "colab_type": "code",
    "id": "n9jMM1nhPftq"
   },
   "outputs": [],
   "source": [
    "Pizza_delivery_online = [16.8, 11.7, 15.6, 16.7, 17.5, 18.1, 14.1, 21.8, 13.9, 20.8]\n",
    "Pizza_delivery_local  = [22.0, 15.2, 18.7, 15.6, 20.8, 19.5, 17.0, 19.5, 16.5, 24.0]"
   ]
  },
  {
   "cell_type": "markdown",
   "metadata": {
    "colab_type": "text",
    "id": "hSXnhqvPPftt"
   },
   "source": [
    "#### Hint: Use paired t test"
   ]
  },
  {
   "cell_type": "code",
   "execution_count": 7,
   "metadata": {
    "colab": {},
    "colab_type": "code",
    "id": "fom1PjGsPftu"
   },
   "outputs": [
    {
     "data": {
      "text/plain": [
       "Ttest_relResult(statistic=3.0447930464454114, pvalue=0.013909593560837055)"
      ]
     },
     "execution_count": 7,
     "metadata": {},
     "output_type": "execute_result"
    }
   ],
   "source": [
    "stats.ttest_rel(Pizza_delivery_local,Pizza_delivery_online)\n",
    "# Reject the Ho "
   ]
  },
  {
   "cell_type": "markdown",
   "metadata": {
    "colab_type": "text",
    "id": "rHT0xGP9Pftx"
   },
   "source": [
    "## End"
   ]
  }
 ],
 "metadata": {
  "colab": {
   "name": "Take_home_exercise_Day_02_QuestionsNew.ipynb",
   "provenance": []
  },
  "kernelspec": {
   "display_name": "Python 3",
   "language": "python",
   "name": "python3"
  },
  "language_info": {
   "codemirror_mode": {
    "name": "ipython",
    "version": 3
   },
   "file_extension": ".py",
   "mimetype": "text/x-python",
   "name": "python",
   "nbconvert_exporter": "python",
   "pygments_lexer": "ipython3",
   "version": "3.7.9"
  }
 },
 "nbformat": 4,
 "nbformat_minor": 1
}
