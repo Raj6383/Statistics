{
 "cells": [
  {
   "cell_type": "markdown",
   "metadata": {
    "colab_type": "text",
    "id": "6oqSQYwjz42c"
   },
   "source": [
    "---------------"
   ]
  },
  {
   "cell_type": "markdown",
   "metadata": {
    "colab_type": "text",
    "id": "W4TGH8Ivz42d"
   },
   "source": [
    "**Problem**) From the given Population & Sample data calculate the followings.\n",
    "\n",
    "#### a)calculate an estimate of mean with 90% confidence level."
   ]
  },
  {
   "cell_type": "code",
   "execution_count": 1,
   "metadata": {
    "colab": {
     "base_uri": "https://localhost:8080/",
     "height": 35
    },
    "colab_type": "code",
    "executionInfo": {
     "elapsed": 653,
     "status": "ok",
     "timestamp": 1597503316910,
     "user": {
      "displayName": "Mallikarjuna Doddamane",
      "photoUrl": "https://lh3.googleusercontent.com/a-/AOh14GjOdnL6KUzzQMPHfk6as2xRMsOSbJoBMF9oJSaK=s64",
      "userId": "11697854241316775674"
     },
     "user_tz": -330
    },
    "id": "xqphHAX7z42e",
    "outputId": "3e74c13f-227b-43e8-d38e-cc9b5b7a2e22"
   },
   "outputs": [
    {
     "name": "stdout",
     "output_type": "stream",
     "text": [
      "[1820 1824 1824 ... 1808 1806 1804]\n"
     ]
    }
   ],
   "source": [
    "import numpy as np\n",
    "import scipy.stats as stats\n",
    "np.random.seed(11)\n",
    "population_horsepower1 = stats.poisson.rvs(loc=1800, mu=25, size=15000)\n",
    "population_horsepower2 = stats.poisson.rvs(loc=1800, mu=5, size=10000)\n",
    "population_hp = np.concatenate((population_horsepower1, population_horsepower2))\n",
    "\n",
    "print(population_hp) # population data"
   ]
  },
  {
   "cell_type": "code",
   "execution_count": 9,
   "metadata": {
    "colab": {},
    "colab_type": "code",
    "executionInfo": {
     "elapsed": 1033,
     "status": "ok",
     "timestamp": 1597503363850,
     "user": {
      "displayName": "Mallikarjuna Doddamane",
      "photoUrl": "https://lh3.googleusercontent.com/a-/AOh14GjOdnL6KUzzQMPHfk6as2xRMsOSbJoBMF9oJSaK=s64",
      "userId": "11697854241316775674"
     },
     "user_tz": -330
    },
    "id": "FyG3U24Jz42i"
   },
   "outputs": [],
   "source": [
    "np.random.seed(11)\n",
    "\n",
    "sample_size = 100\n",
    "sample = np.random.choice(a= population_hp, size = sample_size)\n",
    "xbar=np.mean(population_hp)\n",
    "n=len(population_hp)\n",
    "sd=np.std(population_hp)\n",
    "se=stats.sem(population_hp)"
   ]
  },
  {
   "cell_type": "markdown",
   "metadata": {
    "colab_type": "text",
    "id": "OP47RMxXz42o"
   },
   "source": [
    "**Solution :**"
   ]
  },
  {
   "cell_type": "code",
   "execution_count": 12,
   "metadata": {
    "colab": {},
    "colab_type": "code",
    "id": "HM--kuxcz42p"
   },
   "outputs": [
    {
     "name": "stdout",
     "output_type": "stream",
     "text": [
      "An estimate of mean with 90% confidence level is (1816.9011383114484, 1817.1244616885515)\n"
     ]
    }
   ],
   "source": [
    "print(\"An estimate of mean with 90% confidence level is\",stats.t.interval(0.90, 99,xbar ,se ))"
   ]
  },
  {
   "cell_type": "markdown",
   "metadata": {
    "colab_type": "text",
    "id": "Riqm39ICz42t"
   },
   "source": [
    "----------------"
   ]
  },
  {
   "cell_type": "markdown",
   "metadata": {
    "colab_type": "text",
    "id": "SjHSHwXdz42w"
   },
   "source": [
    "**Problem)**. Hindustan Pencils Pvt. Ltd. is an Indian manufacturer of pencils, writing materials and other stationery items, established in 1958 in Mumbai. Pencils manufactured by Nataraj company is expected to have a mean length of 172 mm and the standard deviation of the length is 0.02 mm.\n",
    "To ensure the quality, a sample is selected at periodic intervals to determine whether the length is still 172 mm meet the quality standards set by the company.You select a random sample of 100 pencils follows a normal distribution and the mean is 170 mm.**\n",
    "\n",
    "* a)Construct a 99% confidence interval for the pencil length."
   ]
  },
  {
   "cell_type": "markdown",
   "metadata": {
    "colab_type": "text",
    "id": "Oz6gtOB9z420"
   },
   "source": [
    "**Solution :**"
   ]
  },
  {
   "cell_type": "markdown",
   "metadata": {
    "colab_type": "text",
    "id": "gvP67fhpz424"
   },
   "source": [
    "It is known that \n",
    "* $\\overline{X}$ = 172 mm\n",
    "* $\\sigma$       = 0.02 mm\n",
    "* n              = 100\n",
    "We need to compute $\\overline{X} \\quad \\pm 2.5783 \\frac {\\sigma} {\\sqrt{n}}$ "
   ]
  },
  {
   "cell_type": "code",
   "execution_count": 13,
   "metadata": {
    "colab": {},
    "colab_type": "code",
    "id": "Izc2H9IFz426"
   },
   "outputs": [
    {
     "data": {
      "text/plain": [
       "(171.99474718908724, 172.00525281091276)"
      ]
     },
     "execution_count": 13,
     "metadata": {},
     "output_type": "execute_result"
    }
   ],
   "source": [
    "xbar=172\n",
    "sd=0.02\n",
    "n=100\n",
    "stats.t.interval(0.99,99,xbar,sd/np.sqrt(100))"
   ]
  }
 ],
 "metadata": {
  "colab": {
   "collapsed_sections": [],
   "name": "Day 02_Estimation.ipynb",
   "provenance": []
  },
  "kernelspec": {
   "display_name": "Python 3",
   "language": "python",
   "name": "python3"
  },
  "language_info": {
   "codemirror_mode": {
    "name": "ipython",
    "version": 3
   },
   "file_extension": ".py",
   "mimetype": "text/x-python",
   "name": "python",
   "nbconvert_exporter": "python",
   "pygments_lexer": "ipython3",
   "version": "3.7.9"
  }
 },
 "nbformat": 4,
 "nbformat_minor": 1
}
