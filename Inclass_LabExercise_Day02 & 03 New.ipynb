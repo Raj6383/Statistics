{
 "cells": [
  {
   "cell_type": "code",
   "execution_count": 1,
   "metadata": {
    "colab": {},
    "colab_type": "code",
    "id": "BRhW47c6xHR0"
   },
   "outputs": [],
   "source": [
    "import numpy       as np\n",
    "import pandas      as pd\n",
    "import scipy.stats as stats\n",
    "from scipy.stats             import ttest_1samp,ttest_ind, wilcoxon\n",
    "from statsmodels.stats.power import ttest_power\n",
    "import matplotlib.pyplot     as     plt"
   ]
  },
  {
   "cell_type": "markdown",
   "metadata": {
    "colab_type": "text",
    "id": "rpOKoIt-xHR3"
   },
   "source": [
    "## Practice Exercise :\n",
    "\n",
    "You are given the daily sugar intake of 11 diabetic patients in the following Python code. \n",
    "\n",
    "**Is there any evidence to the claim that the average daily sugar intake of the diabetic patients is 7600 mg.** \n",
    "\n",
    "**Hint: Use t test**"
   ]
  },
  {
   "cell_type": "code",
   "execution_count": 2,
   "metadata": {
    "colab": {},
    "colab_type": "code",
    "id": "fXqipuhPxHR4"
   },
   "outputs": [],
   "source": [
    "# daily intake of Sugar in milligrams for 11 diabetic patients\n",
    "import numpy as np\n",
    "daily_intake = np.array([5560, 5770, 7640, 5180, 5690, 6435, 6803, 7689, 6876, 8213, 8765])"
   ]
  },
  {
   "cell_type": "code",
   "execution_count": 4,
   "metadata": {
    "colab": {},
    "colab_type": "code",
    "id": "ng4LB2so38ub"
   },
   "outputs": [],
   "source": [
    "def one_samplettest(dtest, popmean, alpha):\n",
    "    import numpy as np\n",
    "    import pandas as pd\n",
    "    import scipy.stats as stats\n",
    "    # Mean of Sample\n",
    "    teststats, pvalue = stats.ttest_1samp(dtest, popmean)\n",
    "    print(\"Test Stats: \", np.round(teststats, 4))\n",
    "    print(\"PValue: \", pvalue)\n",
    "    if(pvalue>alpha):\n",
    "        return(\"Fail to Reject H0\")\n",
    "    else:\n",
    "        return(\"Reject the Ho\")\n",
    "\n",
    "    "
   ]
  },
  {
   "cell_type": "code",
   "execution_count": 6,
   "metadata": {
    "colab": {},
    "colab_type": "code",
    "id": "h-wCqZ31383t"
   },
   "outputs": [
    {
     "name": "stdout",
     "output_type": "stream",
     "text": [
      "Test Stats:  -2.0117\n",
      "PValue:  0.07196741168756592\n"
     ]
    },
    {
     "data": {
      "text/plain": [
       "'Fail to Reject H0'"
      ]
     },
     "execution_count": 6,
     "metadata": {},
     "output_type": "execute_result"
    }
   ],
   "source": [
    "one_samplettest(daily_intake,7500,0.05)"
   ]
  },
  {
   "cell_type": "markdown",
   "metadata": {
    "colab_type": "text",
    "id": "HSSLTeUExHSE"
   },
   "source": [
    "## Practice Exercise "
   ]
  },
  {
   "cell_type": "markdown",
   "metadata": {
    "colab_type": "text",
    "id": "182whitMxHSF"
   },
   "source": [
    "Compare the following two unrelated samples. \n",
    "Data was collected on the weights of women and men enrolled in a weight reduction program. At  𝛼 = 0.05, test whether the average weights of these two samples are different."
   ]
  },
  {
   "cell_type": "code",
   "execution_count": 11,
   "metadata": {
    "colab": {},
    "colab_type": "code",
    "id": "LAkBViewxHSF"
   },
   "outputs": [],
   "source": [
    "Weight_Female       =  [ 53.8, 54.4, 51.2, 52.5, 61.0, 50.6, 51.6, 70.0]\n",
    "Weight_Male         =  [ 72.5, 80.3, 71.3, 67.7, 66.2, 73.4, 61.3, 76.8]\n",
    "alpha=0.05"
   ]
  },
  {
   "cell_type": "code",
   "execution_count": 9,
   "metadata": {
    "colab": {},
    "colab_type": "code",
    "id": "NpOVhCQbxHSH"
   },
   "outputs": [],
   "source": [
    "from    scipy.stats             import  ttest_1samp,ttest_ind, wilcoxon, ttest_ind_from_stats\n",
    "import  scipy.stats             as      stats  \n",
    "from    statsmodels.stats.power import  ttest_power\n",
    "import  matplotlib.pyplot       as      plt"
   ]
  },
  {
   "cell_type": "code",
   "execution_count": 32,
   "metadata": {
    "colab": {},
    "colab_type": "code",
    "id": "RrNv313_4KQR"
   },
   "outputs": [
    {
     "name": "stdout",
     "output_type": "stream",
     "text": [
      "The Test Statistic is  4.886344172533444\n",
      "The PValue is  0.00024034957515992796\n",
      "Reject the Ho meaning that Average weights is Different\n"
     ]
    }
   ],
   "source": [
    "teststats,pvalue = stats.ttest_ind(Weight_Male,Weight_Female)\n",
    "print(\"The Test Statistic is \", teststats)\n",
    "print(\"The PValue is \", pvalue)\n",
    "if(pvalue>alpha):\n",
    "    print(\"Fail to Reject the Ho\")\n",
    "else:\n",
    "    print(\"Reject the Ho meaning that Average weights is Different\") "
   ]
  },
  {
   "cell_type": "markdown",
   "metadata": {
    "colab_type": "text",
    "id": "L9yfAE2PxHSN"
   },
   "source": [
    "## Practice Exercise :"
   ]
  },
  {
   "cell_type": "markdown",
   "metadata": {
    "colab_type": "text",
    "id": "mDI6UConxHSO"
   },
   "source": [
    "**Here weight of 25 people were recorded before they had a new therapy and then again 6 months later. \n",
    "Check if new therapy leads to a change in weight.**"
   ]
  },
  {
   "cell_type": "code",
   "execution_count": 28,
   "metadata": {
    "colab": {},
    "colab_type": "code",
    "id": "sITE_teAxHSP"
   },
   "outputs": [],
   "source": [
    "wt_before = [76, 76, 72, 73, 64, 63, 75, 75, 71, 76, 71, 76, 78, 73, 76, 70, 71, 82, 84, 68, 70, 68, 66, 67, 74]\n",
    "wt_after  = [63, 72, 67, 69, 58, 59, 70, 71, 70, 71, 68, 71, 72, 69, 72, 67, 67, 78, 79, 62, 67, 63, 61, 63, 69]"
   ]
  },
  {
   "cell_type": "markdown",
   "metadata": {
    "colab_type": "text",
    "id": "xSfzCRu6xHSR"
   },
   "source": [
    "**At 5% level of significance, is there any evidence that the new therapy has any effect on the weight of the participants?**"
   ]
  },
  {
   "cell_type": "code",
   "execution_count": 33,
   "metadata": {
    "colab": {},
    "colab_type": "code",
    "id": "vRz9VrqA4iQM"
   },
   "outputs": [
    {
     "data": {
      "text/plain": [
       "Ttest_relResult(statistic=11.381954836452902, pvalue=3.704651177780503e-11)"
      ]
     },
     "execution_count": 33,
     "metadata": {},
     "output_type": "execute_result"
    }
   ],
   "source": [
    "stats.ttest_rel(wt_before,wt_after)"
   ]
  },
  {
   "cell_type": "markdown",
   "metadata": {
    "colab_type": "text",
    "id": "LXvJFHOIxHSR"
   },
   "source": [
    "**Hint: Use a paired t test**"
   ]
  },
  {
   "cell_type": "markdown",
   "metadata": {
    "colab_type": "text",
    "id": "2bvdEdUwxHSU"
   },
   "source": [
    "## Practice Exercise :"
   ]
  },
  {
   "cell_type": "markdown",
   "metadata": {
    "colab_type": "text",
    "id": "WmBi4MI7xHSV"
   },
   "source": [
    "We collect the sample data, calculate the test statistic. \n",
    "In our example, \n",
    "* $\\overline{X}$ = 3.001\n",
    "* $\\mu$   = 2.89\n",
    "* $\\sigma$ = 11\n",
    "* n       = 100\n",
    "* $Z_{STAT} = \\frac{\\overline{X} - \\mu} {\\frac{\\sigma}{\\sqrt{n}}}$ "
   ]
  },
  {
   "cell_type": "code",
   "execution_count": 44,
   "metadata": {
    "colab": {},
    "colab_type": "code",
    "id": "xjZe6NmW4SN6"
   },
   "outputs": [
    {
     "name": "stdout",
     "output_type": "stream",
     "text": [
      " The test statistic is  0.101\n"
     ]
    }
   ],
   "source": [
    "xbar=3.001\n",
    "mu=2.89\n",
    "sd=11\n",
    "n=100\n",
    "zstats=((xbar-mu)/(sd/np.sqrt(n))).round(3)\n",
    "print(\" The test statistic is \",zstats)"
   ]
  }
 ],
 "metadata": {
  "colab": {
   "name": "Inclass_LabExercise_Day02New.ipynb",
   "provenance": []
  },
  "kernelspec": {
   "display_name": "Python 3",
   "language": "python",
   "name": "python3"
  },
  "language_info": {
   "codemirror_mode": {
    "name": "ipython",
    "version": 3
   },
   "file_extension": ".py",
   "mimetype": "text/x-python",
   "name": "python",
   "nbconvert_exporter": "python",
   "pygments_lexer": "ipython3",
   "version": "3.7.9"
  }
 },
 "nbformat": 4,
 "nbformat_minor": 1
}
